{
 "cells": [
  {
   "cell_type": "code",
   "execution_count": 8,
   "id": "c669cccd-6f80-4204-aec6-9582481232ed",
   "metadata": {},
   "outputs": [
    {
     "data": {
      "text/plain": [
       "'here is some text!'"
      ]
     },
     "metadata": {
      "scrapbook": {
       "mime_prefix": "",
       "name": "cool_text"
      }
     },
     "output_type": "display_data"
    }
   ],
   "source": [
    "from myst_nb import glue\n",
    "my_variable = \"here is some text!\"\n",
    "glue(\"cool_text\", my_variable)"
   ]
  },
  {
   "cell_type": "code",
   "execution_count": 2,
   "id": "ee9d273c-7018-46f9-9b95-903f8edea766",
   "metadata": {},
   "outputs": [],
   "source": [
    "# Simulate some data and bootstrap the mean of the data\n",
    "import numpy as np\n",
    "import pandas as pd\n",
    "import matplotlib.pyplot as plt\n",
    "\n",
    "n_points = 10000\n",
    "n_boots = 1000\n",
    "mean, sd = (3, .2)\n",
    "data = sd*np.random.randn(n_points) + mean\n",
    "bootstrap_indices = np.random.randint(0, n_points, n_points*n_boots).reshape((n_boots, n_points))"
   ]
  },
  {
   "cell_type": "code",
   "execution_count": 3,
   "id": "ac6071ed-4ffb-4043-bce9-eef6d8746725",
   "metadata": {},
   "outputs": [
    {
     "data": {
      "text/plain": [
       "2.996846326098941"
      ]
     },
     "metadata": {
      "scrapbook": {
       "mime_prefix": "",
       "name": "boot_mean"
      }
     },
     "output_type": "display_data"
    },
    {
     "data": {
      "text/plain": [
       "2.984591859307283"
      ]
     },
     "metadata": {
      "scrapbook": {
       "mime_prefix": "",
       "name": "boot_clo"
      }
     },
     "output_type": "display_data"
    },
    {
     "data": {
      "text/plain": [
       "3.008995167448376"
      ]
     },
     "metadata": {
      "scrapbook": {
       "mime_prefix": "",
       "name": "boot_chi"
      }
     },
     "output_type": "display_data"
    }
   ],
   "source": [
    "# Calculate the mean of a bunch of random samples\n",
    "means = data[bootstrap_indices].mean(0)\n",
    "# Calculate the 95% confidence interval for the mean\n",
    "clo, chi = np.percentile(means, [2.5, 97.5])\n",
    "\n",
    "# Store the values in our notebook\n",
    "glue(\"boot_mean\", means.mean())\n",
    "glue(\"boot_clo\", clo)\n",
    "glue(\"boot_chi\", chi)"
   ]
  },
  {
   "cell_type": "code",
   "execution_count": 10,
   "id": "67f4bba4-5585-4bcc-b6af-f948a026864e",
   "metadata": {},
   "outputs": [
    {
     "data": {
      "application/papermill.record/image/png": "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\n",
      "application/papermill.record/text/plain": "<Figure size 432x288 with 1 Axes>"
     },
     "metadata": {
      "scrapbook": {
       "mime_prefix": "application/papermill.record/",
       "name": "boot_fig"
      }
     },
     "output_type": "display_data"
    },
    {
     "data": {
      "image/png": "[encoded data removed]",
      "text/plain": [
       "<Figure size 432x288 with 1 Axes>"
      ]
     },
     "metadata": {
      "needs_background": "light"
     },
     "output_type": "display_data"
    },
    {
     "data": {
      "image/png": "[encoded data removed]",
      "text/plain": [
       "<Figure size 432x144 with 1 Axes>"
      ]
     },
     "metadata": {
      "needs_background": "light"
     },
     "output_type": "display_data"
    }
   ],
   "source": [
    "# Visualize the historgram with the intervals\n",
    "fig, ax = plt.subplots()\n",
    "ax.hist(means)\n",
    "for ln in [clo, chi]:\n",
    "    ax.axvline(ln, ls='--', c='r')\n",
    "ax.set_title(\"Bootstrap distribution and 95% CI\")\n",
    "\n",
    "# And a wider figure to show a timeseries\n",
    "fig2, ax = plt.subplots(figsize=(6, 2))\n",
    "ax.plot(np.sort(means), lw=3, c='r')\n",
    "ax.set_axis_off()\n",
    "\n",
    "glue(\"boot_fig\", fig, display=False)\n"
   ]
  },
  {
   "cell_type": "markdown",
   "id": "00a91f8f-ddce-41b6-8928-9ce9198c2742",
   "metadata": {},
   "source": [
    "```{glue:} boot_fig\n",
    "```"
   ]
  },
  {
   "cell_type": "markdown",
   "id": "350050e7-bb71-4cb7-be51-a2a7f95a0f52",
   "metadata": {},
   "source": [
    "In-line text; {glue:}`boot_mean`, and a figure: {glue:}`boot_fig`."
   ]
  },
  {
   "cell_type": "code",
   "execution_count": null,
   "id": "326f2655-36b3-41de-a9b8-0a2eeb04534a",
   "metadata": {},
   "outputs": [],
   "source": [
    "```{glue:figure} boot_fig\n",
    ":figwidth: 300px\n",
    ":name: \"fig-boot\"\n",
    "\n",
    "This is a **caption**, with an embedded `{glue:text}` element: {glue:text}`boot_mean:.2f`!\n",
    "```"
   ]
  }
 ],
 "metadata": {
  "kernelspec": {
   "display_name": "Python 3 (ipykernel)",
   "language": "python",
   "name": "python3"
  },
  "language_info": {
   "codemirror_mode": {
    "name": "ipython",
    "version": 3
   },
   "file_extension": ".py",
   "mimetype": "text/x-python",
   "name": "python",
   "nbconvert_exporter": "python",
   "pygments_lexer": "ipython3",
   "version": "3.7.13"
  }
 },
 "nbformat": 4,
 "nbformat_minor": 5
}
