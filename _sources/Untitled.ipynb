{
 "cells": [
  {
   "cell_type": "markdown",
   "id": "d1fb4f2f-cddb-4f37-a345-ff4c6d202533",
   "metadata": {},
   "source": [
    "# How to do stuff in Jupyter-Books"
   ]
  },
  {
   "cell_type": "markdown",
   "id": "12d38022-c4bd-4636-bb3c-07e4d3ec5aa2",
   "metadata": {},
   "source": [
    "## Images"
   ]
  },
  {
   "cell_type": "markdown",
   "id": "12148490-141a-4d3d-aa5c-5be1f80d76f0",
   "metadata": {},
   "source": [
    "### Data plotting"
   ]
  },
  {
   "cell_type": "code",
   "execution_count": 25,
   "id": "98cc1a88-a554-45f0-8cc7-b08d7d99e68c",
   "metadata": {
    "collapsed": true,
    "jupyter": {
     "outputs_hidden": true,
     "source_hidden": true
    },
    "tags": []
   },
   "outputs": [
    {
     "data": {
      "image/png": "[encoded data removed]",
      "text/plain": [
       "<Figure size 432x288 with 1 Axes>"
      ]
     },
     "metadata": {
      "needs_background": "light"
     },
     "output_type": "display_data"
    }
   ],
   "source": [
    "#required import\n",
    "import pandas as pd\n",
    "import numpy as np\n",
    "import matplotlib.pyplot as plt\n",
    "import seaborn as sns\n",
    "\n",
    "##Machine Learning for Hackers, Drew Conway & John Myles-While, O'Reilly Media.\n",
    "url = \"https://raw.githubusercontent.com/johnmyleswhite/ML_for_Hackers/master/02-Exploration/data/01_heights_weights_genders.csv\"\n",
    "df = pd.read_csv(url)\n",
    "dfht = df[['Height']]\n",
    "\n",
    "# Plot\n",
    "pop_ht = np.random.normal(size=50,loc=66.36756, scale=3.84) #a normal dist adj to Mean and Std\n",
    "\n",
    "fig, ax = plt.subplots();\n",
    "sns.kdeplot(pop_ht,color=\"r\", shade = True, label=\"Adults heights\");\n",
    "sns.histplot(df_sample, x = 'Height', stat = 'probability', kde = True, color=\"dodgerblue\", label=\"Sample Men heights\",bins = 6); \n",
    "\n",
    "plt.axvline(x=68.929605, color='b', dashes=(3, 3), zorder=0,linewidth=1);\n",
    "plt.axvline(x=66.367560, color='red', dashes=(3, 3), zorder=0,linewidth=1);\n",
    "plt.xlim(55,80)\n",
    "plt.ylim(0,.38)\n",
    "plt.legend();"
   ]
  },
  {
   "cell_type": "markdown",
   "id": "298898bd-6f77-47f2-8248-58ccdc2fc040",
   "metadata": {},
   "source": [
    "### Dataframe displays"
   ]
  },
  {
   "cell_type": "code",
   "execution_count": null,
   "id": "be5407b2-627b-40e2-8776-add46383b9ef",
   "metadata": {
    "jupyter": {
     "source_hidden": true
    },
    "tags": []
   },
   "outputs": [],
   "source": [
    "#required import\n",
    "import pandas as pd\n",
    "\n",
    "##Machine Learning for Hackers, Drew Conway & John Myles-While, O'Reilly Media.\n",
    "url = \"https://raw.githubusercontent.com/johnmyleswhite/ML_for_Hackers/master/02-Exploration/data/01_heights_weights_genders.csv\"\n",
    "df = pd.read_csv(url)"
   ]
  },
  {
   "cell_type": "code",
   "execution_count": 20,
   "id": "220968cd-5cce-4677-aa4e-12164dc51075",
   "metadata": {
    "collapsed": true,
    "jupyter": {
     "outputs_hidden": true,
     "source_hidden": true
    },
    "tags": []
   },
   "outputs": [
    {
     "data": {
      "text/html": [
       "<div>\n",
       "<style scoped>\n",
       "    .dataframe tbody tr th:only-of-type {\n",
       "        vertical-align: middle;\n",
       "    }\n",
       "\n",
       "    .dataframe tbody tr th {\n",
       "        vertical-align: top;\n",
       "    }\n",
       "\n",
       "    .dataframe thead th {\n",
       "        text-align: right;\n",
       "    }\n",
       "</style>\n",
       "<table border=\"1\" class=\"dataframe\">\n",
       "  <thead>\n",
       "    <tr style=\"text-align: right;\">\n",
       "      <th></th>\n",
       "      <th>Gender</th>\n",
       "      <th>Height</th>\n",
       "      <th>Weight</th>\n",
       "    </tr>\n",
       "  </thead>\n",
       "  <tbody>\n",
       "    <tr>\n",
       "      <th>0</th>\n",
       "      <td>Male</td>\n",
       "      <td>73.847017</td>\n",
       "      <td>241.893563</td>\n",
       "    </tr>\n",
       "    <tr>\n",
       "      <th>1</th>\n",
       "      <td>Male</td>\n",
       "      <td>68.781904</td>\n",
       "      <td>162.310473</td>\n",
       "    </tr>\n",
       "    <tr>\n",
       "      <th>2</th>\n",
       "      <td>Male</td>\n",
       "      <td>74.110105</td>\n",
       "      <td>212.740856</td>\n",
       "    </tr>\n",
       "    <tr>\n",
       "      <th>3</th>\n",
       "      <td>Male</td>\n",
       "      <td>71.730978</td>\n",
       "      <td>220.042470</td>\n",
       "    </tr>\n",
       "    <tr>\n",
       "      <th>4</th>\n",
       "      <td>Male</td>\n",
       "      <td>69.881796</td>\n",
       "      <td>206.349801</td>\n",
       "    </tr>\n",
       "    <tr>\n",
       "      <th>...</th>\n",
       "      <td>...</td>\n",
       "      <td>...</td>\n",
       "      <td>...</td>\n",
       "    </tr>\n",
       "    <tr>\n",
       "      <th>9995</th>\n",
       "      <td>Female</td>\n",
       "      <td>66.172652</td>\n",
       "      <td>136.777454</td>\n",
       "    </tr>\n",
       "    <tr>\n",
       "      <th>9996</th>\n",
       "      <td>Female</td>\n",
       "      <td>67.067155</td>\n",
       "      <td>170.867906</td>\n",
       "    </tr>\n",
       "    <tr>\n",
       "      <th>9997</th>\n",
       "      <td>Female</td>\n",
       "      <td>63.867992</td>\n",
       "      <td>128.475319</td>\n",
       "    </tr>\n",
       "    <tr>\n",
       "      <th>9998</th>\n",
       "      <td>Female</td>\n",
       "      <td>69.034243</td>\n",
       "      <td>163.852461</td>\n",
       "    </tr>\n",
       "    <tr>\n",
       "      <th>9999</th>\n",
       "      <td>Female</td>\n",
       "      <td>61.944246</td>\n",
       "      <td>113.649103</td>\n",
       "    </tr>\n",
       "  </tbody>\n",
       "</table>\n",
       "<p>10000 rows × 3 columns</p>\n",
       "</div>"
      ],
      "text/plain": [
       "      Gender     Height      Weight\n",
       "0       Male  73.847017  241.893563\n",
       "1       Male  68.781904  162.310473\n",
       "2       Male  74.110105  212.740856\n",
       "3       Male  71.730978  220.042470\n",
       "4       Male  69.881796  206.349801\n",
       "...      ...        ...         ...\n",
       "9995  Female  66.172652  136.777454\n",
       "9996  Female  67.067155  170.867906\n",
       "9997  Female  63.867992  128.475319\n",
       "9998  Female  69.034243  163.852461\n",
       "9999  Female  61.944246  113.649103\n",
       "\n",
       "[10000 rows x 3 columns]"
      ]
     },
     "metadata": {},
     "output_type": "display_data"
    },
    {
     "data": {
      "text/html": [
       "<div>\n",
       "<style scoped>\n",
       "    .dataframe tbody tr th:only-of-type {\n",
       "        vertical-align: middle;\n",
       "    }\n",
       "\n",
       "    .dataframe tbody tr th {\n",
       "        vertical-align: top;\n",
       "    }\n",
       "\n",
       "    .dataframe thead th {\n",
       "        text-align: right;\n",
       "    }\n",
       "</style>\n",
       "<table border=\"1\" class=\"dataframe\">\n",
       "  <thead>\n",
       "    <tr style=\"text-align: right;\">\n",
       "      <th></th>\n",
       "      <th>Gender</th>\n",
       "      <th>Height</th>\n",
       "    </tr>\n",
       "  </thead>\n",
       "  <tbody>\n",
       "    <tr>\n",
       "      <th>0</th>\n",
       "      <td>Male</td>\n",
       "      <td>63.651508</td>\n",
       "    </tr>\n",
       "    <tr>\n",
       "      <th>1</th>\n",
       "      <td>Male</td>\n",
       "      <td>72.390657</td>\n",
       "    </tr>\n",
       "    <tr>\n",
       "      <th>2</th>\n",
       "      <td>Male</td>\n",
       "      <td>69.008259</td>\n",
       "    </tr>\n",
       "    <tr>\n",
       "      <th>3</th>\n",
       "      <td>Male</td>\n",
       "      <td>71.357382</td>\n",
       "    </tr>\n",
       "    <tr>\n",
       "      <th>4</th>\n",
       "      <td>Male</td>\n",
       "      <td>70.490929</td>\n",
       "    </tr>\n",
       "    <tr>\n",
       "      <th>...</th>\n",
       "      <td>...</td>\n",
       "      <td>...</td>\n",
       "    </tr>\n",
       "    <tr>\n",
       "      <th>45</th>\n",
       "      <td>Male</td>\n",
       "      <td>73.847017</td>\n",
       "    </tr>\n",
       "    <tr>\n",
       "      <th>46</th>\n",
       "      <td>Male</td>\n",
       "      <td>69.624550</td>\n",
       "    </tr>\n",
       "    <tr>\n",
       "      <th>47</th>\n",
       "      <td>Male</td>\n",
       "      <td>69.481714</td>\n",
       "    </tr>\n",
       "    <tr>\n",
       "      <th>48</th>\n",
       "      <td>Male</td>\n",
       "      <td>67.459715</td>\n",
       "    </tr>\n",
       "    <tr>\n",
       "      <th>49</th>\n",
       "      <td>Male</td>\n",
       "      <td>67.318545</td>\n",
       "    </tr>\n",
       "  </tbody>\n",
       "</table>\n",
       "<p>50 rows × 2 columns</p>\n",
       "</div>"
      ],
      "text/plain": [
       "   Gender     Height\n",
       "0    Male  63.651508\n",
       "1    Male  72.390657\n",
       "2    Male  69.008259\n",
       "3    Male  71.357382\n",
       "4    Male  70.490929\n",
       "..    ...        ...\n",
       "45   Male  73.847017\n",
       "46   Male  69.624550\n",
       "47   Male  69.481714\n",
       "48   Male  67.459715\n",
       "49   Male  67.318545\n",
       "\n",
       "[50 rows x 2 columns]"
      ]
     },
     "metadata": {},
     "output_type": "display_data"
    }
   ],
   "source": [
    "##standard display. \n",
    "display(df)\n",
    "\n",
    "#set degault max and options\n",
    "df_sample = df.loc[df['Gender']== 'Male',['Gender','Height']].sample(50, random_state=12, ignore_index=True);\n",
    "pd.set_option('display.max_rows', 30)\n",
    "display(df_sample)\n",
    "\n",
    "#set scoll options in metdata. only displays in html output"
   ]
  },
  {
   "cell_type": "markdown",
   "id": "ca975f8c-f08b-422b-86ac-d3ae2bff5636",
   "metadata": {
    "jupyter": {
     "source_hidden": true
    },
    "tags": [
     "output_scroll"
    ]
   },
   "source": [
    "To display htmls outputs in scroll box, hidden box, etc., add metadata tags:\n",
    "\n",
    "<code>{\n",
    "    \"tags\": [\n",
    "        \"output_scroll\",\n",
    "        \"hide_input\"\n",
    "    ]\n",
    "}<code>\n",
    "    \n",
    "Using Lab or Notebook metadata edit options"
   ]
  },
  {
   "cell_type": "markdown",
   "id": "3a54b86c-26d0-4ec3-be8c-31f29dc094d6",
   "metadata": {},
   "source": [
    "#### Display dataframes side by side"
   ]
  },
  {
   "cell_type": "markdown",
   "id": "be6cc908-b03e-4737-b59e-faf00c6d254a",
   "metadata": {},
   "source": [
    "### Figure layouts"
   ]
  },
  {
   "cell_type": "code",
   "execution_count": 22,
   "id": "cbf8380c-e3df-429e-81be-cb9217128928",
   "metadata": {
    "collapsed": true,
    "jupyter": {
     "outputs_hidden": true,
     "source_hidden": true
    },
    "tags": []
   },
   "outputs": [
    {
     "data": {
      "text/html": [
       "<style type=\"text/css\">\n",
       "</style>\n",
       "<table id=\"T_5e747_\" style='display:inline'>\n",
       "  <caption>Sample Heights of 50 Adult Males</caption>\n",
       "  <thead>\n",
       "    <tr>\n",
       "      <th class=\"blank level0\" >&nbsp;</th>\n",
       "      <th class=\"col_heading level0 col0\" >Height</th>\n",
       "    </tr>\n",
       "  </thead>\n",
       "  <tbody>\n",
       "    <tr>\n",
       "      <th id=\"T_5e747_level0_row0\" class=\"row_heading level0 row0\" >mean</th>\n",
       "      <td id=\"T_5e747_row0_col0\" class=\"data row0 col0\" >68.929605</td>\n",
       "    </tr>\n",
       "    <tr>\n",
       "      <th id=\"T_5e747_level0_row1\" class=\"row_heading level0 row1\" >std</th>\n",
       "      <td id=\"T_5e747_row1_col0\" class=\"data row1 col0\" >3.028708</td>\n",
       "    </tr>\n",
       "  </tbody>\n",
       "</table>\n",
       "          <style type=\"text/css\">\n",
       "</style>\n",
       "<table id=\"T_a1d1d_\" style='display:inline'>\n",
       "  <caption>Population of Adult Heights</caption>\n",
       "  <thead>\n",
       "    <tr>\n",
       "      <th class=\"blank level0\" >&nbsp;</th>\n",
       "      <th class=\"col_heading level0 col0\" >Height</th>\n",
       "    </tr>\n",
       "  </thead>\n",
       "  <tbody>\n",
       "    <tr>\n",
       "      <th id=\"T_a1d1d_level0_row0\" class=\"row_heading level0 row0\" >mean</th>\n",
       "      <td id=\"T_a1d1d_row0_col0\" class=\"data row0 col0\" >66.367560</td>\n",
       "    </tr>\n",
       "    <tr>\n",
       "      <th id=\"T_a1d1d_level0_row1\" class=\"row_heading level0 row1\" >std</th>\n",
       "      <td id=\"T_a1d1d_row1_col0\" class=\"data row1 col0\" >3.847528</td>\n",
       "    </tr>\n",
       "  </tbody>\n",
       "</table>\n"
      ]
     },
     "metadata": {},
     "output_type": "display_data"
    }
   ],
   "source": [
    "#required import\n",
    "import pandas as pd\n",
    "from IPython.display import display, display_html\n",
    "\n",
    "url = \"https://raw.githubusercontent.com/johnmyleswhite/ML_for_Hackers/master/02-Exploration/data/01_heights_weights_genders.csv\"\n",
    "df = pd.read_csv(url)\n",
    "dfht = df[['Height']]\n",
    "\n",
    "#display stats side by side\n",
    "df1_styler = df_sample.describe().loc[['mean','std']].style.set_table_attributes(\"style='display:inline'\").set_caption('Sample Heights of 50 Adult Males')\n",
    "df2_styler = dfht.describe().loc[['mean','std']].style.set_table_attributes(\"style='display:inline'\").set_caption('Population of Adult Heights')\n",
    "space = \"\\xa0\" * 10 #adjusts spacing\n",
    "\n",
    "display_html(df1_styler._repr_html_()+ space +df2_styler._repr_html_(), raw=True)"
   ]
  },
  {
   "cell_type": "markdown",
   "id": "34a2ed6c-8a2a-4668-a6ad-e3585ff61829",
   "metadata": {},
   "source": [
    "#### Figure Captioning\n",
    "\n",
    "##### Captioning Matplot and Boxed images\n",
    "This is a hack. Adding captions to saved images seems easy, but labeling, indexing, and captioning generated and Boxed images does not seem to be yet supported. Add the following as **Markdown** below the figure:"
   ]
  },
  {
   "cell_type": "code",
   "execution_count": null,
   "id": "e9e04cb2-199b-4093-8ec9-ae9e17733b05",
   "metadata": {},
   "outputs": [],
   "source": [
    "```{figure} data:image/gif;base64,R0lGODlhAQABAIAAAAAAAP///yH5BAEAAAAALAAAAAABAAEAAAIBRAA7\n",
    ":figclass: caption-hack\n",
    ":name: your-fig-name\n",
    "\n",
    "Your caption goes here\n",
    "```"
   ]
  },
  {
   "cell_type": "markdown",
   "id": "f78b3636-384b-4a3f-88ce-4e0f8c1cd215",
   "metadata": {
    "tags": []
   },
   "source": [
    "Add the following to the CSS file. For Jupyter-books, it should be added to \"bookfolder/_static/css_file.css\" The Css mode is necessary to center the image output so it aligns with the captioning. This is not ideal as it applies to all images. \n",
    "\n",
    "<code> img {\n",
    "    display: block;\n",
    "    margin-left: auto;\n",
    "    margin-right: auto;\n",
    "}<code>\n",
    "\n",
    "<code>.caption-hack img {\n",
    "    margin-bottom: -28px;\n",
    "}<code>"
   ]
  },
  {
   "cell_type": "markdown",
   "id": "3aa672e3-e411-4d89-8480-9bee04590a15",
   "metadata": {},
   "source": [
    "##### Capstioning with glue"
   ]
  }
 ],
 "metadata": {
  "kernelspec": {
   "display_name": "Python 3 (ipykernel)",
   "language": "python",
   "name": "python3"
  },
  "language_info": {
   "codemirror_mode": {
    "name": "ipython",
    "version": 3
   },
   "file_extension": ".py",
   "mimetype": "text/x-python",
   "name": "python",
   "nbconvert_exporter": "python",
   "pygments_lexer": "ipython3",
   "version": "3.7.13"
  }
 },
 "nbformat": 4,
 "nbformat_minor": 5
}
