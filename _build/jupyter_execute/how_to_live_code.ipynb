{
 "cells": [
  {
   "cell_type": "markdown",
   "id": "b66bea36-83ec-4a24-bd9f-bfb68fc6da98",
   "metadata": {},
   "source": [
    "# Interactive Live Code Stuff\n",
    "\n",
    "The html output can't driectly run stuff that needs Python to run -ti needs a kernel. To make your content interactive without requiring readers to leave the current page, you can use a project called Thebe. \n",
    "\n",
    "## Using sphinx-thebe \n",
    "\n",
    "sphinx-thebe uses remote Jupyter kernels to execute your page’s code and return the results, and Binder to run the infrastructure for execution. You can do nearly anything with sphinx-thebe that you could do from within a Jupyter Notebook cell."
   ]
  },
  {
   "cell_type": "markdown",
   "id": "a634bc7b-ff54-44f8-b0a2-a61fd04c7da1",
   "metadata": {},
   "source": [
    "<!-- Configure and load Thebe !-->\n",
    "<script type=\"text/x-thebe-config\">\n",
    "  {\n",
    "      requestKernel: true,\n",
    "      mountActivateWidget: true,\n",
    "      mountStatusWidget: true,\n",
    "      data-executable: false,\n",
    "      binderOptions: {\n",
    "      repo: \"binder-examples/requirements\",\n",
    "      },\n",
    "  }\n",
    "</script>\n",
    "\n",
    "<script type=\"text/javascript\">\n",
    "    thebe.events.on(\"request-kernel\")((kernel) => {\n",
    "        // Find any cells with an initialization tag and ask Thebe to run them when ready\n",
    "        kernel.requestExecute({code: \"import numpy\"})\n",
    "    });\n",
    "</script>\n",
    "\n",
    "<script type=\"text/javascript\">\n",
    "    thebe.events.on(\"request-kernel\")(() => {\n",
    "        // Find any cells with an initialization tag and ask Thebe to run them when ready\n",
    "        var thebeInitCells = document.querySelectorAll('.thebe-init');\n",
    "        thebeInitCells.forEach((cell) => {\n",
    "            console.log(\"Initializing Thebe with cell: \" + cell.id);\n",
    "            const initButton = cell.querySelector('.thebe-run-button');\n",
    "            initButton.click();\n",
    "        });\n",
    "    });\n",
    "</script>\n",
    "    \n",
    "<script src=\"https://unpkg.com/thebe@latest/lib/index.js\"></script>\n",
    "\n",
    "<div class=\"thebe-activate\"></div>\n",
    "<div class=\"thebe-status\"></div>"
   ]
  },
  {
   "cell_type": "code",
   "execution_count": 1,
   "id": "98757017-5340-4592-86e2-006ce6367a58",
   "metadata": {},
   "outputs": [
    {
     "name": "stdout",
     "output_type": "stream",
     "text": [
      "false\n"
     ]
    }
   ],
   "source": [
    "print(\"false\")"
   ]
  },
  {
   "cell_type": "markdown",
   "id": "df2fec75-47b2-4deb-90ff-293fa54bc71b",
   "metadata": {
    "tags": [
     "thebe-init",
     "thebelab-init"
    ]
   },
   "source": [
    "Inserting html editable/runnanble code using Markdoen\n",
    "\n",
    "<pre data-executable=\"true\" data-output=\"true\" data-language=\"python\">print(\"Hello true!\")</pre>"
   ]
  },
  {
   "cell_type": "markdown",
   "id": "304198b4-c42c-47b6-8ecd-2b73ecff82a7",
   "metadata": {
    "tags": [
     "thebe-init"
    ]
   },
   "source": [
    "Inserting code that's not runnable in html\n",
    "\n",
    "<pre data-language=\"python\">print(\"Hello false\")</pre>\n",
    "\n",
    "Inserting normal code that's not runnable unless a thebe-button is clicked."
   ]
  },
  {
   "cell_type": "code",
   "execution_count": 2,
   "id": "e4431481-19c4-47ee-abef-328557186f0a",
   "metadata": {
    "tags": [
     "hide-input",
     "thebe-false"
    ]
   },
   "outputs": [
    {
     "name": "stdout",
     "output_type": "stream",
     "text": [
      "Hello, no thebe here 2\n"
     ]
    }
   ],
   "source": [
    "print('Hello, no thebe here 2')"
   ]
  },
  {
   "cell_type": "markdown",
   "id": "01d8617b-bbb8-4e98-a8c6-aea9e6627110",
   "metadata": {},
   "source": [
    "```{code-block} python\n",
    "print(\"hello world!\")\n",
    "```"
   ]
  },
  {
   "cell_type": "markdown",
   "id": "fb45e1b4-1393-437e-b91d-5410ac112f59",
   "metadata": {},
   "source": [
    "```{thebe-button}\n",
    "```"
   ]
  },
  {
   "cell_type": "markdown",
   "id": "e7819e81-3d58-4aa4-ad34-8698e654ef86",
   "metadata": {},
   "source": [
    "<div class=\"highlight\">\n",
    "    <pre>print(\"hi!\")</pre>\n",
    " </div>"
   ]
  },
  {
   "cell_type": "markdown",
   "id": "fa6e35e9-1142-4617-b8c1-79a71fcde496",
   "metadata": {},
   "source": [
    "<pre data-executable data-readonly>print(\"I cannot be modified\")</pre>"
   ]
  },
  {
   "cell_type": "markdown",
   "id": "15750e57-50bd-4419-9bc6-afb31f995424",
   "metadata": {},
   "source": [
    "## Interactive widgets using Python\n"
   ]
  },
  {
   "cell_type": "code",
   "execution_count": 3,
   "id": "b29dcd31-6801-41b6-b740-d06c921cd407",
   "metadata": {
    "tags": []
   },
   "outputs": [],
   "source": [
    "from ipywidgets import interact, interactive, fixed, interact_manual\n",
    "import ipywidgets as widgets\n",
    "\n",
    "def f(x):\n",
    "    return x"
   ]
  },
  {
   "cell_type": "markdown",
   "id": "4f85bb3b-3b81-408f-af37-06b286760d31",
   "metadata": {},
   "source": [
    "And some lines of stuff.... \n",
    "and then the interact widget. It's necessary to run the imports through Thebe first. They don' load until Thebe is run and the then the code cell is run. "
   ]
  },
  {
   "cell_type": "code",
   "execution_count": 4,
   "id": "ec59aa6b-301b-420b-a028-950478f6394a",
   "metadata": {
    "tags": [
     "thebe-init",
     "interactive"
    ]
   },
   "outputs": [
    {
     "data": {
      "application/vnd.jupyter.widget-view+json": {
       "model_id": "a31a7642458e4e12a8af4fd7efabeb03",
       "version_major": 2,
       "version_minor": 0
      },
      "text/plain": [
       "interactive(children=(IntSlider(value=10, description='x', max=30, min=-10), Output()), _dom_classes=('widget-…"
      ]
     },
     "metadata": {},
     "output_type": "display_data"
    }
   ],
   "source": [
    "from ipywidgets import interact, interactive, fixed, interact_manual\n",
    "import ipywidgets as widgets\n",
    "\n",
    "def f(x):\n",
    "    return x\n",
    "\n",
    "interact(f, x=10);"
   ]
  },
  {
   "cell_type": "markdown",
   "id": "d07ad3a9-095a-47ac-88ab-7d3360a0a37e",
   "metadata": {
    "tags": [
     "thebe-init",
     "interactive",
     "thebelab-init"
    ]
   },
   "source": [
    "<pre data-executable=\"true\" data-readonly init = \"true\" thebe-init = \"true\">\n",
    "from ipywidgets import interact, interactive, fixed, interact_manual\n",
    "import ipywidgets as widgets\n",
    "\n",
    "def f(x):\n",
    "    return x\n",
    "\n",
    "interact(f, x=10);\n",
    "print('hello 2')\n",
    "</pre>"
   ]
  },
  {
   "cell_type": "code",
   "execution_count": 5,
   "id": "73510a44-7803-422a-901d-6d3dc6220f19",
   "metadata": {
    "tags": [
     "thebe-init"
    ]
   },
   "outputs": [
    {
     "name": "stdout",
     "output_type": "stream",
     "text": [
      "hi auto python\n"
     ]
    },
    {
     "name": "stdout",
     "output_type": "stream",
     "text": [
      "ipywidgets==8.0.4\n",
      "pandas==1.5.3\n",
      "numpy==1.24.1\n"
     ]
    }
   ],
   "source": [
    "print(\"hi auto python\")\n",
    "\n",
    "##required\n",
    "import pandas as pd\n",
    "import numpy as np\n",
    "##Have all necessary packages imported\n",
    "#import some_packageA\n",
    "#import some_packageB\n",
    "\n",
    "##Run this line and send the output as .txt file. \n",
    "print('\\n'.join(f'{m.__name__}=={m.__version__}' for m in globals().values() if getattr(m, '__version__', None)))"
   ]
  },
  {
   "cell_type": "markdown",
   "id": "d1fd77c0-3709-4f53-9cf9-055f7dd94a52",
   "metadata": {},
   "source": [
    "```{code-block}\n",
    ":class: thebe, thebe-init\n",
    "print(\"hi MD\")\n",
    "```"
   ]
  }
 ],
 "metadata": {
  "kernelspec": {
   "display_name": "Python 3 (ipykernel)",
   "language": "python",
   "name": "python3"
  },
  "language_info": {
   "codemirror_mode": {
    "name": "ipython",
    "version": 3
   },
   "file_extension": ".py",
   "mimetype": "text/x-python",
   "name": "python",
   "nbconvert_exporter": "python",
   "pygments_lexer": "ipython3",
   "version": "3.11.1"
  },
  "widgets": {
   "application/vnd.jupyter.widget-state+json": {
    "state": {
     "0563bcb084e8477c8fc161936fd50b0b": {
      "model_module": "@jupyter-widgets/controls",
      "model_module_version": "2.0.0",
      "model_name": "SliderStyleModel",
      "state": {
       "_model_module": "@jupyter-widgets/controls",
       "_model_module_version": "2.0.0",
       "_model_name": "SliderStyleModel",
       "_view_count": null,
       "_view_module": "@jupyter-widgets/base",
       "_view_module_version": "2.0.0",
       "_view_name": "StyleView",
       "description_width": "",
       "handle_color": null
      }
     },
     "2f7b926b1ba44b778b624903fcc1ebc6": {
      "model_module": "@jupyter-widgets/output",
      "model_module_version": "1.0.0",
      "model_name": "OutputModel",
      "state": {
       "_dom_classes": [],
       "_model_module": "@jupyter-widgets/output",
       "_model_module_version": "1.0.0",
       "_model_name": "OutputModel",
       "_view_count": null,
       "_view_module": "@jupyter-widgets/output",
       "_view_module_version": "1.0.0",
       "_view_name": "OutputView",
       "layout": "IPY_MODEL_4f9cfff6a73a4656bce79c750d69b479",
       "msg_id": "",
       "outputs": [
        {
         "data": {
          "text/plain": "10"
         },
         "metadata": {},
         "output_type": "display_data"
        }
       ],
       "tabbable": null,
       "tooltip": null
      }
     },
     "4f9cfff6a73a4656bce79c750d69b479": {
      "model_module": "@jupyter-widgets/base",
      "model_module_version": "2.0.0",
      "model_name": "LayoutModel",
      "state": {
       "_model_module": "@jupyter-widgets/base",
       "_model_module_version": "2.0.0",
       "_model_name": "LayoutModel",
       "_view_count": null,
       "_view_module": "@jupyter-widgets/base",
       "_view_module_version": "2.0.0",
       "_view_name": "LayoutView",
       "align_content": null,
       "align_items": null,
       "align_self": null,
       "border_bottom": null,
       "border_left": null,
       "border_right": null,
       "border_top": null,
       "bottom": null,
       "display": null,
       "flex": null,
       "flex_flow": null,
       "grid_area": null,
       "grid_auto_columns": null,
       "grid_auto_flow": null,
       "grid_auto_rows": null,
       "grid_column": null,
       "grid_gap": null,
       "grid_row": null,
       "grid_template_areas": null,
       "grid_template_columns": null,
       "grid_template_rows": null,
       "height": null,
       "justify_content": null,
       "justify_items": null,
       "left": null,
       "margin": null,
       "max_height": null,
       "max_width": null,
       "min_height": null,
       "min_width": null,
       "object_fit": null,
       "object_position": null,
       "order": null,
       "overflow": null,
       "padding": null,
       "right": null,
       "top": null,
       "visibility": null,
       "width": null
      }
     },
     "7bdc756feef349b380b7e8f549d2633e": {
      "model_module": "@jupyter-widgets/base",
      "model_module_version": "2.0.0",
      "model_name": "LayoutModel",
      "state": {
       "_model_module": "@jupyter-widgets/base",
       "_model_module_version": "2.0.0",
       "_model_name": "LayoutModel",
       "_view_count": null,
       "_view_module": "@jupyter-widgets/base",
       "_view_module_version": "2.0.0",
       "_view_name": "LayoutView",
       "align_content": null,
       "align_items": null,
       "align_self": null,
       "border_bottom": null,
       "border_left": null,
       "border_right": null,
       "border_top": null,
       "bottom": null,
       "display": null,
       "flex": null,
       "flex_flow": null,
       "grid_area": null,
       "grid_auto_columns": null,
       "grid_auto_flow": null,
       "grid_auto_rows": null,
       "grid_column": null,
       "grid_gap": null,
       "grid_row": null,
       "grid_template_areas": null,
       "grid_template_columns": null,
       "grid_template_rows": null,
       "height": null,
       "justify_content": null,
       "justify_items": null,
       "left": null,
       "margin": null,
       "max_height": null,
       "max_width": null,
       "min_height": null,
       "min_width": null,
       "object_fit": null,
       "object_position": null,
       "order": null,
       "overflow": null,
       "padding": null,
       "right": null,
       "top": null,
       "visibility": null,
       "width": null
      }
     },
     "7fcfe0618b224f4bb989cefe3570c3fc": {
      "model_module": "@jupyter-widgets/base",
      "model_module_version": "2.0.0",
      "model_name": "LayoutModel",
      "state": {
       "_model_module": "@jupyter-widgets/base",
       "_model_module_version": "2.0.0",
       "_model_name": "LayoutModel",
       "_view_count": null,
       "_view_module": "@jupyter-widgets/base",
       "_view_module_version": "2.0.0",
       "_view_name": "LayoutView",
       "align_content": null,
       "align_items": null,
       "align_self": null,
       "border_bottom": null,
       "border_left": null,
       "border_right": null,
       "border_top": null,
       "bottom": null,
       "display": null,
       "flex": null,
       "flex_flow": null,
       "grid_area": null,
       "grid_auto_columns": null,
       "grid_auto_flow": null,
       "grid_auto_rows": null,
       "grid_column": null,
       "grid_gap": null,
       "grid_row": null,
       "grid_template_areas": null,
       "grid_template_columns": null,
       "grid_template_rows": null,
       "height": null,
       "justify_content": null,
       "justify_items": null,
       "left": null,
       "margin": null,
       "max_height": null,
       "max_width": null,
       "min_height": null,
       "min_width": null,
       "object_fit": null,
       "object_position": null,
       "order": null,
       "overflow": null,
       "padding": null,
       "right": null,
       "top": null,
       "visibility": null,
       "width": null
      }
     },
     "a31a7642458e4e12a8af4fd7efabeb03": {
      "model_module": "@jupyter-widgets/controls",
      "model_module_version": "2.0.0",
      "model_name": "VBoxModel",
      "state": {
       "_dom_classes": [
        "widget-interact"
       ],
       "_model_module": "@jupyter-widgets/controls",
       "_model_module_version": "2.0.0",
       "_model_name": "VBoxModel",
       "_view_count": null,
       "_view_module": "@jupyter-widgets/controls",
       "_view_module_version": "2.0.0",
       "_view_name": "VBoxView",
       "box_style": "",
       "children": [
        "IPY_MODEL_b784b550db7f40e9bcb067cbe057ef16",
        "IPY_MODEL_2f7b926b1ba44b778b624903fcc1ebc6"
       ],
       "layout": "IPY_MODEL_7fcfe0618b224f4bb989cefe3570c3fc",
       "tabbable": null,
       "tooltip": null
      }
     },
     "b784b550db7f40e9bcb067cbe057ef16": {
      "model_module": "@jupyter-widgets/controls",
      "model_module_version": "2.0.0",
      "model_name": "IntSliderModel",
      "state": {
       "_dom_classes": [],
       "_model_module": "@jupyter-widgets/controls",
       "_model_module_version": "2.0.0",
       "_model_name": "IntSliderModel",
       "_view_count": null,
       "_view_module": "@jupyter-widgets/controls",
       "_view_module_version": "2.0.0",
       "_view_name": "IntSliderView",
       "behavior": "drag-tap",
       "continuous_update": true,
       "description": "x",
       "description_allow_html": false,
       "disabled": false,
       "layout": "IPY_MODEL_7bdc756feef349b380b7e8f549d2633e",
       "max": 30,
       "min": -10,
       "orientation": "horizontal",
       "readout": true,
       "readout_format": "d",
       "step": 1,
       "style": "IPY_MODEL_0563bcb084e8477c8fc161936fd50b0b",
       "tabbable": null,
       "tooltip": null,
       "value": 10
      }
     }
    },
    "version_major": 2,
    "version_minor": 0
   }
  }
 },
 "nbformat": 4,
 "nbformat_minor": 5
}