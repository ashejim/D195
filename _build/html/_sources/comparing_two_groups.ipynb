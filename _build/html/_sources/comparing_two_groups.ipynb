# Comparing Two (but not more than two) Groups

You can also create content with Jupyter Notebooks. This means that you can include
code blocks and their outputs in your book.

## Quantitative Variables

### Large Samples

The sampling distribution of _any_ statistic (aka value or variable) being tested, e.g., the mean) becomes more and more _normal_ (aka Gaussian or bell-shaped) as the sample size increases (this is the Central Limit Theorem [ADD LINK]). So with sufficiently large samples, we can assume the normality of the sampling distribution required by parametric tests (most well-known statistical tests). In short, large samples make things much easier. 

So what's large?? If in doubt, use the standard rule of thumb, $n>30$. But this oversimplifies things-a lot; parametric tests can sometimes perform well with smaller samples from non-normal data distributions (see [Choosing Between a Nonparametric Test and a Parametric Test]([Choosing Between a Nonparametric Test and a Parametric Test](https://blog.minitab.com/en/adventures-in-statistics-2/choosing-between-a-nonparametric-test-and-a-parametric-test)) and [ADD LINK]). For simplicity, we'll assume throughout this section that conditions for parametric tests are met. 

Statistics is about application -let's look at some examples.

#### Example: Comparing a sample to the population

__Question:__ Are men taller than the average adult? 

   

### Small Samples

This is a bit more involved. To be added...

![](https://myst-parser.readthedocs.io/en/latest/_static/logo-wide.svg)

You can also $add_{math}$ and

$$
math^{blocks}
$$

or

$$
\begin{aligned}
\mbox{mean} la_{tex} \\ \\
math blocks
\end{aligned}
$$

But make sure you \$Escape \$your \$dollar signs \$you want to keep!

## Categorical Data

MyST markdown works in Jupyter Notebooks as well. For more information about MyST markdown, check
out [the MyST guide in Jupyter Book](https://jupyterbook.org/content/myst.html),
or see [the MyST markdown documentation](https://myst-parser.readthedocs.io/en/latest/).

## Code blocks and outputs

Jupyter Book will also embed your code blocks and output in your book.
For example, here's some sample Matplotlib code:
