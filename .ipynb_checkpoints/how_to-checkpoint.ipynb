{
 "cells": [
  {
   "cell_type": "markdown",
   "id": "d1fb4f2f-cddb-4f37-a345-ff4c6d202533",
   "metadata": {},
   "source": [
    "# How to do stuff in Jupyter-Books"
   ]
  },
  {
   "cell_type": "markdown",
   "id": "12d38022-c4bd-4636-bb3c-07e4d3ec5aa2",
   "metadata": {},
   "source": [
    "## Images"
   ]
  },
  {
   "cell_type": "markdown",
   "id": "12148490-141a-4d3d-aa5c-5be1f80d76f0",
   "metadata": {},
   "source": [
    "### Data plotting"
   ]
  },
  {
   "cell_type": "code",
   "execution_count": 1,
   "id": "98cc1a88-a554-45f0-8cc7-b08d7d99e68c",
   "metadata": {
    "tags": []
   },
   "outputs": [
    {
     "data": {
      "image/png": "[encoded data removed]",
      "text/plain": [
       "<Figure size 432x288 with 1 Axes>"
      ]
     },
     "metadata": {
      "needs_background": "light"
     },
     "output_type": "display_data"
    }
   ],
   "source": [
    "#required import\n",
    "import pandas as pd\n",
    "import numpy as np\n",
    "import matplotlib.pyplot as plt\n",
    "import seaborn as sns\n",
    "\n",
    "##Machine Learning for Hackers, Drew Conway & John Myles-While, O'Reilly Media.\n",
    "url = \"https://raw.githubusercontent.com/johnmyleswhite/ML_for_Hackers/master/02-Exploration/data/01_heights_weights_genders.csv\"\n",
    "df = pd.read_csv(url)\n",
    "df_sample = df.loc[df['Gender']== 'Male',['Gender','Height']].sample(50, random_state=12, ignore_index=True);\n",
    "dfht = df[['Height']]\n",
    "\n",
    "# Plot\n",
    "pop_ht = np.random.normal(size=50,loc=66.36756, scale=3.84) #a normal dist adj to Mean and Std\n",
    "\n",
    "fig, ax = plt.subplots();\n",
    "sns.kdeplot(pop_ht,color=\"r\", shade = True, label=\"Adults heights\");\n",
    "sns.histplot(df_sample, x = 'Height', stat = 'probability', kde = True, color=\"dodgerblue\", label=\"Sample Men heights\",bins = 6); \n",
    "\n",
    "plt.axvline(x=68.929605, color='b', dashes=(3, 3), zorder=0,linewidth=1);\n",
    "plt.axvline(x=66.367560, color='red', dashes=(3, 3), zorder=0,linewidth=1);\n",
    "plt.xlim(55,80)\n",
    "plt.ylim(0,.38)\n",
    "plt.legend();"
   ]
  },
  {
   "cell_type": "markdown",
   "id": "298898bd-6f77-47f2-8248-58ccdc2fc040",
   "metadata": {},
   "source": [
    "### Dataframe displays"
   ]
  },
  {
   "cell_type": "code",
   "execution_count": 2,
   "id": "be5407b2-627b-40e2-8776-add46383b9ef",
   "metadata": {
    "tags": []
   },
   "outputs": [],
   "source": [
    "#required import\n",
    "import pandas as pd\n",
    "\n",
    "##Machine Learning for Hackers, Drew Conway & John Myles-While, O'Reilly Media.\n",
    "url = \"https://raw.githubusercontent.com/johnmyleswhite/ML_for_Hackers/master/02-Exploration/data/01_heights_weights_genders.csv\"\n",
    "df = pd.read_csv(url)"
   ]
  },
  {
   "cell_type": "code",
   "execution_count": 3,
   "id": "220968cd-5cce-4677-aa4e-12164dc51075",
   "metadata": {
    "tags": []
   },
   "outputs": [
    {
     "data": {
      "text/html": [
       "<div>\n",
       "<style scoped>\n",
       "    .dataframe tbody tr th:only-of-type {\n",
       "        vertical-align: middle;\n",
       "    }\n",
       "\n",
       "    .dataframe tbody tr th {\n",
       "        vertical-align: top;\n",
       "    }\n",
       "\n",
       "    .dataframe thead th {\n",
       "        text-align: right;\n",
       "    }\n",
       "</style>\n",
       "<table border=\"1\" class=\"dataframe\">\n",
       "  <thead>\n",
       "    <tr style=\"text-align: right;\">\n",
       "      <th></th>\n",
       "      <th>Gender</th>\n",
       "      <th>Height</th>\n",
       "      <th>Weight</th>\n",
       "    </tr>\n",
       "  </thead>\n",
       "  <tbody>\n",
       "    <tr>\n",
       "      <th>0</th>\n",
       "      <td>Male</td>\n",
       "      <td>73.847017</td>\n",
       "      <td>241.893563</td>\n",
       "    </tr>\n",
       "    <tr>\n",
       "      <th>1</th>\n",
       "      <td>Male</td>\n",
       "      <td>68.781904</td>\n",
       "      <td>162.310473</td>\n",
       "    </tr>\n",
       "    <tr>\n",
       "      <th>2</th>\n",
       "      <td>Male</td>\n",
       "      <td>74.110105</td>\n",
       "      <td>212.740856</td>\n",
       "    </tr>\n",
       "    <tr>\n",
       "      <th>3</th>\n",
       "      <td>Male</td>\n",
       "      <td>71.730978</td>\n",
       "      <td>220.042470</td>\n",
       "    </tr>\n",
       "    <tr>\n",
       "      <th>4</th>\n",
       "      <td>Male</td>\n",
       "      <td>69.881796</td>\n",
       "      <td>206.349801</td>\n",
       "    </tr>\n",
       "    <tr>\n",
       "      <th>...</th>\n",
       "      <td>...</td>\n",
       "      <td>...</td>\n",
       "      <td>...</td>\n",
       "    </tr>\n",
       "    <tr>\n",
       "      <th>9995</th>\n",
       "      <td>Female</td>\n",
       "      <td>66.172652</td>\n",
       "      <td>136.777454</td>\n",
       "    </tr>\n",
       "    <tr>\n",
       "      <th>9996</th>\n",
       "      <td>Female</td>\n",
       "      <td>67.067155</td>\n",
       "      <td>170.867906</td>\n",
       "    </tr>\n",
       "    <tr>\n",
       "      <th>9997</th>\n",
       "      <td>Female</td>\n",
       "      <td>63.867992</td>\n",
       "      <td>128.475319</td>\n",
       "    </tr>\n",
       "    <tr>\n",
       "      <th>9998</th>\n",
       "      <td>Female</td>\n",
       "      <td>69.034243</td>\n",
       "      <td>163.852461</td>\n",
       "    </tr>\n",
       "    <tr>\n",
       "      <th>9999</th>\n",
       "      <td>Female</td>\n",
       "      <td>61.944246</td>\n",
       "      <td>113.649103</td>\n",
       "    </tr>\n",
       "  </tbody>\n",
       "</table>\n",
       "<p>10000 rows × 3 columns</p>\n",
       "</div>"
      ],
      "text/plain": [
       "      Gender     Height      Weight\n",
       "0       Male  73.847017  241.893563\n",
       "1       Male  68.781904  162.310473\n",
       "2       Male  74.110105  212.740856\n",
       "3       Male  71.730978  220.042470\n",
       "4       Male  69.881796  206.349801\n",
       "...      ...        ...         ...\n",
       "9995  Female  66.172652  136.777454\n",
       "9996  Female  67.067155  170.867906\n",
       "9997  Female  63.867992  128.475319\n",
       "9998  Female  69.034243  163.852461\n",
       "9999  Female  61.944246  113.649103\n",
       "\n",
       "[10000 rows x 3 columns]"
      ]
     },
     "metadata": {},
     "output_type": "display_data"
    },
    {
     "data": {
      "text/html": [
       "<div>\n",
       "<style scoped>\n",
       "    .dataframe tbody tr th:only-of-type {\n",
       "        vertical-align: middle;\n",
       "    }\n",
       "\n",
       "    .dataframe tbody tr th {\n",
       "        vertical-align: top;\n",
       "    }\n",
       "\n",
       "    .dataframe thead th {\n",
       "        text-align: right;\n",
       "    }\n",
       "</style>\n",
       "<table border=\"1\" class=\"dataframe\">\n",
       "  <thead>\n",
       "    <tr style=\"text-align: right;\">\n",
       "      <th></th>\n",
       "      <th>Gender</th>\n",
       "      <th>Height</th>\n",
       "    </tr>\n",
       "  </thead>\n",
       "  <tbody>\n",
       "    <tr>\n",
       "      <th>0</th>\n",
       "      <td>Male</td>\n",
       "      <td>63.651508</td>\n",
       "    </tr>\n",
       "    <tr>\n",
       "      <th>1</th>\n",
       "      <td>Male</td>\n",
       "      <td>72.390657</td>\n",
       "    </tr>\n",
       "    <tr>\n",
       "      <th>2</th>\n",
       "      <td>Male</td>\n",
       "      <td>69.008259</td>\n",
       "    </tr>\n",
       "    <tr>\n",
       "      <th>3</th>\n",
       "      <td>Male</td>\n",
       "      <td>71.357382</td>\n",
       "    </tr>\n",
       "    <tr>\n",
       "      <th>4</th>\n",
       "      <td>Male</td>\n",
       "      <td>70.490929</td>\n",
       "    </tr>\n",
       "    <tr>\n",
       "      <th>...</th>\n",
       "      <td>...</td>\n",
       "      <td>...</td>\n",
       "    </tr>\n",
       "    <tr>\n",
       "      <th>45</th>\n",
       "      <td>Male</td>\n",
       "      <td>73.847017</td>\n",
       "    </tr>\n",
       "    <tr>\n",
       "      <th>46</th>\n",
       "      <td>Male</td>\n",
       "      <td>69.624550</td>\n",
       "    </tr>\n",
       "    <tr>\n",
       "      <th>47</th>\n",
       "      <td>Male</td>\n",
       "      <td>69.481714</td>\n",
       "    </tr>\n",
       "    <tr>\n",
       "      <th>48</th>\n",
       "      <td>Male</td>\n",
       "      <td>67.459715</td>\n",
       "    </tr>\n",
       "    <tr>\n",
       "      <th>49</th>\n",
       "      <td>Male</td>\n",
       "      <td>67.318545</td>\n",
       "    </tr>\n",
       "  </tbody>\n",
       "</table>\n",
       "<p>50 rows × 2 columns</p>\n",
       "</div>"
      ],
      "text/plain": [
       "   Gender     Height\n",
       "0    Male  63.651508\n",
       "1    Male  72.390657\n",
       "2    Male  69.008259\n",
       "3    Male  71.357382\n",
       "4    Male  70.490929\n",
       "..    ...        ...\n",
       "45   Male  73.847017\n",
       "46   Male  69.624550\n",
       "47   Male  69.481714\n",
       "48   Male  67.459715\n",
       "49   Male  67.318545\n",
       "\n",
       "[50 rows x 2 columns]"
      ]
     },
     "metadata": {},
     "output_type": "display_data"
    }
   ],
   "source": [
    "##standard display. \n",
    "display(df)\n",
    "\n",
    "#set degault max and options\n",
    "df_sample = df.loc[df['Gender']== 'Male',['Gender','Height']].sample(50, random_state=12, ignore_index=True);\n",
    "pd.set_option('display.max_rows', 30)\n",
    "display(df_sample)\n",
    "\n",
    "#set scoll options in metdata. only displays in html output"
   ]
  },
  {
   "cell_type": "markdown",
   "id": "ca975f8c-f08b-422b-86ac-d3ae2bff5636",
   "metadata": {
    "tags": [
     "output_scroll"
    ]
   },
   "source": [
    "To display htmls outputs in scroll box, hidden box, etc., add metadata tags:\n",
    "\n",
    "```html\n",
    "\n",
    "    \"tags\": [\n",
    "        \"output_scroll\",\n",
    "        \"hide_input\"\n",
    "    ]\n",
    "\n",
    "```\n",
    "    \n",
    "Using Lab or Notebook metadata edit options"
   ]
  },
  {
   "cell_type": "markdown",
   "id": "3a54b86c-26d0-4ec3-be8c-31f29dc094d6",
   "metadata": {},
   "source": [
    "#### Display dataframes side by side"
   ]
  },
  {
   "cell_type": "code",
   "execution_count": 4,
   "id": "cbf8380c-e3df-429e-81be-cb9217128928",
   "metadata": {
    "tags": []
   },
   "outputs": [
    {
     "data": {
      "text/html": [
       "<style type=\"text/css\">\n",
       "</style>\n",
       "<table id=\"T_8735c_\" style='display:inline'>\n",
       "  <caption>Sample Heights of 50 Adult Males</caption>\n",
       "  <thead>\n",
       "    <tr>\n",
       "      <th class=\"blank level0\" >&nbsp;</th>\n",
       "      <th class=\"col_heading level0 col0\" >Height</th>\n",
       "    </tr>\n",
       "  </thead>\n",
       "  <tbody>\n",
       "    <tr>\n",
       "      <th id=\"T_8735c_level0_row0\" class=\"row_heading level0 row0\" >mean</th>\n",
       "      <td id=\"T_8735c_row0_col0\" class=\"data row0 col0\" >68.929605</td>\n",
       "    </tr>\n",
       "    <tr>\n",
       "      <th id=\"T_8735c_level0_row1\" class=\"row_heading level0 row1\" >std</th>\n",
       "      <td id=\"T_8735c_row1_col0\" class=\"data row1 col0\" >3.028708</td>\n",
       "    </tr>\n",
       "  </tbody>\n",
       "</table>\n",
       "          <style type=\"text/css\">\n",
       "</style>\n",
       "<table id=\"T_c4bfe_\" style='display:inline'>\n",
       "  <caption>Population of Adult Heights</caption>\n",
       "  <thead>\n",
       "    <tr>\n",
       "      <th class=\"blank level0\" >&nbsp;</th>\n",
       "      <th class=\"col_heading level0 col0\" >Height</th>\n",
       "    </tr>\n",
       "  </thead>\n",
       "  <tbody>\n",
       "    <tr>\n",
       "      <th id=\"T_c4bfe_level0_row0\" class=\"row_heading level0 row0\" >mean</th>\n",
       "      <td id=\"T_c4bfe_row0_col0\" class=\"data row0 col0\" >66.367560</td>\n",
       "    </tr>\n",
       "    <tr>\n",
       "      <th id=\"T_c4bfe_level0_row1\" class=\"row_heading level0 row1\" >std</th>\n",
       "      <td id=\"T_c4bfe_row1_col0\" class=\"data row1 col0\" >3.847528</td>\n",
       "    </tr>\n",
       "  </tbody>\n",
       "</table>\n"
      ]
     },
     "metadata": {},
     "output_type": "display_data"
    }
   ],
   "source": [
    "#required import\n",
    "import pandas as pd\n",
    "from IPython.display import display, display_html\n",
    "\n",
    "url = \"https://raw.githubusercontent.com/johnmyleswhite/ML_for_Hackers/master/02-Exploration/data/01_heights_weights_genders.csv\"\n",
    "df = pd.read_csv(url)\n",
    "dfht = df[['Height']]\n",
    "\n",
    "#display stats side by side\n",
    "df1_styler = df_sample.describe().loc[['mean','std']].style.set_table_attributes(\"style='display:inline'\").set_caption('Sample Heights of 50 Adult Males')\n",
    "df2_styler = dfht.describe().loc[['mean','std']].style.set_table_attributes(\"style='display:inline'\").set_caption('Population of Adult Heights')\n",
    "space = \"\\xa0\" * 10 #adjusts spacing\n",
    "\n",
    "display_html(df1_styler._repr_html_()+ space +df2_styler._repr_html_(), raw=True)"
   ]
  },
  {
   "cell_type": "markdown",
   "id": "91b9fcdd-4780-4ca5-9f9b-d1c09abbd1dc",
   "metadata": {},
   "source": [
    "### Interactive Stuff\n",
    "\n",
    "The html output can't driectly run stuff that needs Python to run -ti needs a kernel. To make your content interactive without requiring readers to leave the current page, you can use a project called Thebe. "
   ]
  },
  {
   "cell_type": "markdown",
   "id": "8c22a893-ebb2-41e2-9228-f9a1db9a3bf0",
   "metadata": {},
   "source": [
    "```{thebe-button}\n",
    "```"
   ]
  },
  {
   "cell_type": "code",
   "execution_count": null,
   "id": "87bf5e48-2f56-45c1-bf48-468b73dda2de",
   "metadata": {},
   "outputs": [],
   "source": [
    ":class: thebe\n",
    "print(\"hello world!\")"
   ]
  },
  {
   "cell_type": "markdown",
   "id": "be6cc908-b03e-4737-b59e-faf00c6d254a",
   "metadata": {},
   "source": [
    "### Figures\n"
   ]
  },
  {
   "cell_type": "markdown",
   "id": "8263d51d-8e25-4d2f-9288-1deb6fb23f1d",
   "metadata": {},
   "source": [
    "#### Drawing Figures\n",
    "\n",
    "#### using a function\n"
   ]
  },
  {
   "cell_type": "code",
   "execution_count": 3,
   "id": "b745591f-bba5-4d8c-9722-dad40d5b5d8d",
   "metadata": {},
   "outputs": [
    {
     "data": {
      "image/png": "[encoded data removed]",
      "text/plain": [
       "<Figure size 432x288 with 1 Axes>"
      ]
     },
     "metadata": {
      "needs_background": "light"
     },
     "output_type": "display_data"
    }
   ],
   "source": [
    "# %matplotlib notebook these lines have mysterious effect on layouts\n",
    "# %matplotlib inline\n",
    "from ipywidgets import interact, FloatSlider, interactive, fixed\n",
    "import matplotlib.patches as mpatches\n",
    "from matplotlib.collections import PatchCollection\n",
    "from scipy.stats import norm\n",
    "import math\n",
    "import numpy as np\n",
    "import matplotlib.pyplot as plt\n",
    "    \n",
    "#draws pdf of smampling means)\n",
    "def draw_pdf_smeans(mu, sigma, sample_size, lower_cond, upper_cond):\n",
    "    sigma_n = sigma/(math.sqrt(sample_size))\n",
    "    # sigma_n = 1\n",
    "    x = np.linspace(-4*sigma_n + mu, 4*sigma_n + mu, 1000)\n",
    "    y = norm.pdf(x, mu, sigma_n) # (x-values, location, scale) \n",
    "    # pop_ht = np.random.normal(size=50,loc=66.36756, scale=3.84) #a normal dist adj to Mean and Std\n",
    "    # z = x['x<67']\n",
    "    # print(z)\n",
    "    plt.xlabel('Density')\n",
    "    plt.ylabel('Height')\n",
    "    plt.plot(x, y)\n",
    "    plt.fill_between(x, y, 0, where = (x > lower_cond) & (x < upper_cond),color = 'dodgerblue')\n",
    "    plt.show()\n",
    "\n",
    "draw_pdf_smeans(66.4, 3.84, 50, 65, 67)"
   ]
  },
  {
   "cell_type": "markdown",
   "id": "f509c09a-ff90-4653-8594-d47bd1893d1a",
   "metadata": {},
   "source": [
    "#### Interactive Figures\n",
    "\n",
    "Sliders"
   ]
  },
  {
   "cell_type": "code",
   "execution_count": null,
   "id": "dad28fd4-5065-4f6e-809b-abec024445dd",
   "metadata": {},
   "outputs": [],
   "source": [
    "from IPython.display import display\n",
    "import numpy as np\n",
    "from ipywidgets import *\n",
    "import matplotlib.pyplot as plt\n",
    "\n",
    "def plot_oscillation(wavelength, magnitude, phase):\n",
    "    x = np.linspace(-20, 20, 1000)\n",
    "    plt.plot(x, magnitude*np.sin((x+phase)/(wavelength/(2*np.pi))))\n",
    "    plt.show()\n",
    "    \n",
    "w = dict(wavelength = FloatSlider(2*np.pi, min=0.1, max=20, step=0.1, description='wavelength'),\n",
    "         magnitude = FloatSlider(1, min=0.1, max=10, step=0.1, description='magnitude'),\n",
    "         phase = FloatSlider(0, min=0, max=10, step=0.1, description='phase'))\n",
    "\n",
    "output = interactive_output(plot_oscillation, w)\n",
    "box = HBox([VBox([*w.values()]), output])\n",
    "display(box)"
   ]
  },
  {
   "cell_type": "markdown",
   "id": "7d3ba855-644f-43c4-b7d7-d80d11b32a1b",
   "metadata": {},
   "source": [
    "The above will display the sliders, but not the image in html. To fix this see the example below where boxes are also used to place the slider widget. Note, in html the widget will appear -but not change the graph without a python kernel. "
   ]
  },
  {
   "cell_type": "code",
   "execution_count": null,
   "id": "3e3747ae-8503-4d02-8833-53413ab3104f",
   "metadata": {
    "tags": []
   },
   "outputs": [],
   "source": [
    "from ipywidgets import interact, FloatSlider, interactive, fixed\n",
    "import matplotlib.patches as mpatches\n",
    "from matplotlib.collections import PatchCollection\n",
    "\n",
    "#imports\n",
    "import pandas as pd\n",
    "from ipywidgets import interact, interactive, fixed, interact_manual, Layout, Box, VBox, HBox, Button, Output, Tab\n",
    "# import ipywidgets as widgets\n",
    "from IPython.display import display, display_html\n",
    "import numpy as np\n",
    "import math\n",
    "import matplotlib.pyplot as plt\n",
    "import seaborn as sns\n",
    "from scipy.stats import norm\n",
    "import markdown\n",
    "from IPython.core.display import display, HTML\n",
    "from myst_nb import glue\n",
    "\n",
    "out = Output()\n",
    "\n",
    "mu = 66.4\n",
    "sigma = 3.84\n",
    "sample_size = 50,\n",
    "upper_cond= 66.4+4*3.84\n",
    "\n",
    "#draws pdf of smampling means)\n",
    "def update_plot(change):\n",
    "    lower_cond = change['new'] # new slider value \n",
    "    mu = 66.4\n",
    "    sigma = 3.84\n",
    "    sample_size = 50.0,\n",
    "    upper_cond= 66.4+4*3.84\n",
    "    sigma_n = sigma/(np.sqrt(sample_size)[0]) #std dev of sampling means\n",
    "    with out:\n",
    "        clear_output(wait=True)\n",
    "        x = np.linspace(-4*sigma_n + mu, 4*sigma_n + mu, 1000) #x-axis values\n",
    "        y = norm.pdf(x, mu, sigma_n) # (x-values, location, scale) #norm function\n",
    "        #plot\n",
    "        fig, axs = plt.subplots()\n",
    "        plt.plot(x, y)\n",
    "        plt.fill_between(x, y, 0, where = (x > lower_cond) & (x < upper_cond),color = 'pink')\n",
    "        plt.axvline(x=66.4, color='red', dashes=(3, 3), zorder=0,linewidth=1)\n",
    "        plt.axvline(x=lower_cond, color='blue', dashes=(3, 3), zorder=0,linewidth=1)\n",
    "        plt.xlabel('Density')\n",
    "        plt.ylabel('Height')\n",
    "        plt.text(lower_cond+.1,.6, r'$\\bar{}=${}'.format(r'x',round(lower_cond,2)), fontsize=12)\n",
    "        prob = 1-norm.cdf(lower_cond, loc=mu, scale=sigma_n)\n",
    "        plt.text(67.5,.3, r'prob.={}'.format(round(prob,3)), fontsize=12)\n",
    "        ##arrows\n",
    "        style=\"Simple,head_length=15,head_width=15,tail_width=3\"\n",
    "        arrow = arrow = mpatches.FancyArrowPatch((68,.275), ((lower_cond+68)/2,\n",
    "                                                 norm.pdf((lower_cond+68.75)/2, mu, sigma_n)/2),\n",
    "                                                 arrowstyle=style)\n",
    "        plt.gca().add_patch(arrow)\n",
    "#       display(fig)\n",
    "        plt.show()\n",
    "\n",
    "\n",
    "style ={'description_width': 'initial'};\n",
    "\n",
    "interact_layout = Layout(display='flex',\n",
    "#                     flex_flow='column', #default for VBox\n",
    "                    align_items = 'center',\n",
    "#                     align_content = 'center',\n",
    "                    justify_content = 'center',\n",
    "#                     border = 'solid', #centers widget\n",
    "                    )\n",
    "\n",
    "slider = FloatSlider(description='Sample mean', \n",
    "                                style = style,\n",
    "                                min=64.5, max=68.5, \n",
    "                                step = .5, value=67,\n",
    "#                                 layout = slider_layout\n",
    "                                )\n",
    "\n",
    "slider_box = Box([slider] , layout = interact_layout) \n",
    "fig_box = Box([out] , layout = interact_layout) \n",
    "slider.observe(update_plot, 'value')\n",
    "update_plot({'new': slider.value}) \n",
    "fig_and_slider = VBox(children = [slider_box, fig_box], layout=interact_layout)\n",
    "\n",
    "display(fig_and_slider)"
   ]
  },
  {
   "cell_type": "markdown",
   "id": "9c4450d9-d935-4d4e-9695-83f0a0eeb9ab",
   "metadata": {},
   "source": [
    "A graph with slider on the side using bqplot\n"
   ]
  },
  {
   "cell_type": "code",
   "execution_count": null,
   "id": "9daf9d19-1152-4e78-883f-33ee198c712d",
   "metadata": {},
   "outputs": [],
   "source": [
    "import numpy as np\n",
    "from bqplot import pyplot as plt\n",
    "from IPython.display import display\n",
    "from ipywidgets import interactive, fixed, IntSlider, HBox, Layout\n",
    "%matplotlib inline\n",
    "\n",
    "plt.figure(min_aspect_ratio=1, max_aspect_ratio=1)\n",
    "\n",
    "xs = np.random.randint(0, 5000 + 1, 100)\n",
    "ys = np.random.randint(0, 5000 + 1, 100)\n",
    "\n",
    "scat = plt.scatter(xs, ys)\n",
    "\n",
    "def rotate(theta, xs, ys):\n",
    "    new_xs = xs * np.cos(np.deg2rad(theta)) - ys * np.sin(np.deg2rad(theta))\n",
    "    new_xs -= new_xs.min()\n",
    "    new_ys = xs * np.sin(np.deg2rad(theta)) + ys * np.cos(np.deg2rad(theta))\n",
    "    new_ys -= new_ys.min()\n",
    "    return new_xs, new_ys\n",
    "\n",
    "def update_plot(theta, xs, ys):\n",
    "    new_xs, new_ys = rotate(theta, xs, ys)\n",
    "    scat.x, scat.y = new_xs, new_ys\n",
    "\n",
    "w = interactive(update_plot, \n",
    "             theta=IntSlider(min=-180, max=180, step=5,value=0, orientation='vertical'), \n",
    "             xs=fixed(xs), \n",
    "             ys=fixed(ys))\n",
    "\n",
    "box_layout = Layout(display='flex', flex_flow='row', justify_content='center', align_items='center')\n",
    "display(HBox([plt.current_figure(), w], layout=box_layout))"
   ]
  },
  {
   "cell_type": "markdown",
   "id": "2c8f8ebb-173a-4631-9a08-c4aec448e4b4",
   "metadata": {},
   "source": [
    "#### Figure Layout\n",
    "\n",
    "We can use flexboxes for more control"
   ]
  },
  {
   "cell_type": "code",
   "execution_count": null,
   "id": "3f796377-654f-4cb9-a646-0920507eeb4b",
   "metadata": {},
   "outputs": [],
   "source": [
    "from ipywidgets import interact, interactive, fixed, interact_manual, Layout, Box, VBox, HBox, Button, Output, Tab\n",
    "import markdown\n",
    "import pandas as pd\n",
    "import numpy as np\n",
    "import seaborn as sns\n",
    "import matplotlib.pyplot as plt\n",
    "\n",
    "url = \"https://raw.githubusercontent.com/johnmyleswhite/ML_for_Hackers/master/02-Exploration/data/01_heights_weights_genders.csv\"\n",
    "df = pd.read_csv(url)\n",
    "df_sample = df.loc[df['Gender']== 'Male',['Gender','Height']].sample(50, random_state=12, ignore_index=True);\n",
    "df_sample\n",
    "dfht = df[['Height']]\n",
    "      \n",
    "# Plot\n",
    "pop_ht = np.random.normal(size=50,loc=66.36756, scale=3.84) #a normal dist adj to Mean and Std\n",
    "out1 = Output()\n",
    "df1 = Output()\n",
    "df2 = Output()\n",
    "cap = Output()\n",
    "\n",
    "with df1:\n",
    "    display(df_sample.describe().loc[['mean','std']].style.set_table_attributes(\"style='display:inline'\").set_caption('Sample Heights of 50 Adult Males'))\n",
    "\n",
    "with df2: \n",
    "    display(dfht.describe().loc[['mean','std']].style.set_table_attributes(\"style='display:inline'\").set_caption('Population of Adult Heights'))\n",
    "    \n",
    "with out1:\n",
    "    fig, ax = plt.subplots();\n",
    "    sns.kdeplot(pop_ht,color=\"r\", shade = True, label=\"Adults heights\");\n",
    "    sns.histplot(df_sample, x = 'Height', stat = 'probability', kde = True, color=\"dodgerblue\", label=\"Sample Men heights\",bins = 6); \n",
    "    plt.axvline(x=68.929605, color='b', dashes=(3, 3), zorder=0,linewidth=1);\n",
    "    plt.axvline(x=66.367560, color='red', dashes=(3, 3), zorder=0,linewidth=1);\n",
    "    plt.xlim(55,80)\n",
    "    plt.ylim(0,.38)\n",
    "    plt.legend()\n",
    "    plt.show()\n",
    "\n",
    "box_layout = Layout(display='flex',\n",
    "                    flex_flow='row',\n",
    "                    align_items = 'center',\n",
    "                    justify_content = 'center',\n",
    "                    border='solid',\n",
    "                    width='100%')\n",
    "#border solid might help visualize layout\n",
    "\n",
    "box_images = Box(children = [df1, df2, out1],layout=box_layout)\n",
    "box_images"
   ]
  },
  {
   "cell_type": "markdown",
   "id": "7817b575-5281-4664-a6cb-a65906b27eb3",
   "metadata": {},
   "source": [
    "But gluing doesn't work with boxes"
   ]
  },
  {
   "cell_type": "code",
   "execution_count": null,
   "id": "2de9c4d5-b6c2-4519-bb00-bb14f1bafa1a",
   "metadata": {},
   "outputs": [],
   "source": [
    "from myst_nb import glue\n",
    "glue('box-images', box_images, display = False) "
   ]
  },
  {
   "cell_type": "markdown",
   "id": "5fab8b4a-cba0-4fec-81c0-3b2468eb986d",
   "metadata": {},
   "source": [
    "```{glue:figure} box-images\n",
    ":figwidth: 300px\n",
    ":name: box-images\n",
    "Gluing doesn't work with these flex boxes.\n",
    "```\n",
    "\n",
    "Another example"
   ]
  },
  {
   "cell_type": "code",
   "execution_count": null,
   "id": "dd3a8461-9581-4333-af24-934b229bebdc",
   "metadata": {},
   "outputs": [],
   "source": [
    "#Simulate some data and bootstrap the mean of the data\n",
    "import numpy as np\n",
    "import pandas as pd\n",
    "import matplotlib.pyplot as plt\n",
    "\n",
    "n_points = 10000\n",
    "n_boots = 1000\n",
    "mean, sd = (3, .2)\n",
    "data = sd*np.random.randn(n_points) + mean\n",
    "bootstrap_indices = np.random.randint(0, n_points, n_points*n_boots).reshape((n_boots, n_points))"
   ]
  },
  {
   "cell_type": "code",
   "execution_count": null,
   "id": "04b49834-75b4-4b83-99fc-ca532236a5c8",
   "metadata": {},
   "outputs": [],
   "source": [
    "from ipywidgets import interact, interactive, fixed, interact_manual, Layout, Box, VBox, HBox, Button, Output, Tab\n",
    "import markdown\n",
    "from IPython.core.display import display, HTML\n",
    "\n",
    "%matplotlib inline\n",
    "\n",
    "# Calculate the mean of a bunch of random samples\n",
    "means = data[bootstrap_indices].mean(0)\n",
    "# Calculate the 95% confidence interval for the mean\n",
    "clo, chi = np.percentile(means, [2.5, 97.5])\n",
    "\n",
    "fig, ax = plt.subplots()\n",
    "ax.hist(means)\n",
    "for ln in [clo, chi]:\n",
    "    ax.axvline(ln, ls='--', c='r')\n",
    "ax.set_title(\"Bootstrap distribution and 95% CI\")\n",
    "plt.show()\n",
    "\n",
    "fig1 = Output()\n",
    "cap = Output()\n",
    "\n",
    "with fig1:\n",
    "    fig, ax = plt.subplots()\n",
    "    ax.hist(means)\n",
    "    for ln in [clo, chi]:\n",
    "        ax.axvline(ln, ls='--', c='r')\n",
    "    ax.set_title(\"Bootstrap distribution and 95% CI\")\n",
    "    plt.show()\n",
    "\n",
    "box_layout = Layout(display='flex',\n",
    "                    flex_flow='row',\n",
    "                    align_items = 'center',\n",
    "                    justify_content = 'center',\n",
    "                    border='solid',\n",
    "                    width='100%')\n",
    "\n",
    "box_images = Box(children = [fig1,fig1],layout=box_layout)\n",
    "box_images"
   ]
  },
  {
   "cell_type": "markdown",
   "id": "5a5ee9df-f477-43cd-a7c2-365b25267931",
   "metadata": {},
   "source": [
    "Note, this generates twice in Notebooks"
   ]
  },
  {
   "cell_type": "markdown",
   "id": "34a2ed6c-8a2a-4668-a6ad-e3585ff61829",
   "metadata": {
    "tags": []
   },
   "source": [
    "#### Captioning\n",
    "\n",
    "##### Captioning Hack\n",
    "This is a hack. Adding captions to saved images seems easy, but labeling, indexing, and captioning generated and Boxed images does not seem to be yet supported. Add the following as **Markdown** below the figure:"
   ]
  },
  {
   "cell_type": "markdown",
   "id": "d5712d02-1bff-454d-a886-69338f6291f7",
   "metadata": {
    "tags": []
   },
   "source": [
    "```{figure} data:image/gif;base64,R0lGODlhAQABAIAAAAAAAP///yH5BAEAAAAALAAAAAABAAEAAAIBRAA7\n",
    ":figclass: caption-hack\n",
    ":name: your-fig-name\n",
    "\n",
    "Your caption goes here\n",
    "```"
   ]
  },
  {
   "cell_type": "markdown",
   "id": "f78b3636-384b-4a3f-88ce-4e0f8c1cd215",
   "metadata": {
    "tags": []
   },
   "source": [
    "Add the following to the CSS file. For Jupyter-books, it should be added to \"bookfolder/_static/css_file.css\" The Css mode is necessary to center the image output so it aligns with the captioning. This is not ideal as it applies to all images. \n",
    "\n",
    "```css\n",
    "img {\n",
    "    display: block;\n",
    "    margin-left: auto;\n",
    "    margin-right: auto;\n",
    "}\n",
    ".caption-hack img {\n",
    "    margin-bottom: -28px;\n",
    "}\n",
    "```"
   ]
  },
  {
   "cell_type": "markdown",
   "id": "3aa672e3-e411-4d89-8480-9bee04590a15",
   "metadata": {
    "tags": []
   },
   "source": [
    "##### Captioning with glue\n",
    "\n",
    "With gluing you can label almost anything and reuse it wherever:"
   ]
  },
  {
   "cell_type": "code",
   "execution_count": null,
   "id": "32707f6a-336c-473a-b70b-cf6cfe63e49c",
   "metadata": {
    "tags": []
   },
   "outputs": [],
   "source": [
    "import numpy as np\n",
    "from myst_nb import glue\n",
    "\n",
    "n_points = 10000\n",
    "n_boots = 1000\n",
    "mean, sd = (3, .2)\n",
    "data = sd*np.random.randn(n_points) + mean\n",
    "bootstrap_indices = np.random.randint(0, n_points, n_points*n_boots).reshape((n_boots, n_points))\n",
    "\n",
    "# Calculate the mean of a bunch of random samples\n",
    "means = data[bootstrap_indices].mean(0)\n",
    "# Calculate the 95% confidence interval for the mean\n",
    "clo, chi = np.percentile(means, [2.5, 97.5])\n",
    "# Store the values in our notebook\n",
    "glue(\"boot_mean\", means.mean(), display = False)\n",
    "glue(\"boot_clo\", clo)\n",
    "glue(\"boot_chi\", chi)"
   ]
  },
  {
   "cell_type": "markdown",
   "id": "9874da14-51bb-483a-b512-4306432bea74",
   "metadata": {
    "tags": []
   },
   "source": [
    "Here is the text: {glue:}`boot_mean`\n",
    "which only shows up in the html output. Similarly we can glue plots"
   ]
  },
  {
   "cell_type": "code",
   "execution_count": null,
   "id": "d31e2cc5-7a65-4a81-a910-28274c590114",
   "metadata": {
    "tags": []
   },
   "outputs": [],
   "source": [
    "# Visualize the historgram with the intervals\n",
    "fig, ax = plt.subplots()\n",
    "ax.hist(means)\n",
    "for ln in [clo, chi]:\n",
    "    ax.axvline(ln, ls='--', c='r')\n",
    "ax.set_title(\"Bootstrap distribution and 95% CI\")\n",
    "plt.close(fig) #suppresses image\n",
    "\n",
    "glue('ht-distfig', fig, display = False) "
   ]
  },
  {
   "cell_type": "markdown",
   "id": "fb3c9657-6209-4e2b-8605-d7aa0185195f",
   "metadata": {
    "tags": []
   },
   "source": [
    "Now we can glue and caption with numbering in Markdon:\n",
    "```{glue:figure} ht-distfig\n",
    ":figwidth: 300px\n",
    ":name: ht-distfig\n",
    "\n",
    "Comparing the distributions of the sample (blue) to the population (red) heights. Here's an embedded `{glue:text}` element: {glue:text}`boot_mean:.2f`.\n",
    "```"
   ]
  },
  {
   "cell_type": "code",
   "execution_count": null,
   "id": "673e6fe2-53b0-4059-9fbf-34ca6e598607",
   "metadata": {},
   "outputs": [],
   "source": []
  }
 ],
 "metadata": {
  "kernelspec": {
   "display_name": "Python 3 (ipykernel)",
   "language": "python",
   "name": "python3"
  },
  "language_info": {
   "codemirror_mode": {
    "name": "ipython",
    "version": 3
   },
   "file_extension": ".py",
   "mimetype": "text/x-python",
   "name": "python",
   "nbconvert_exporter": "python",
   "pygments_lexer": "ipython3",
   "version": "3.9.7"
  }
 },
 "nbformat": 4,
 "nbformat_minor": 5
}
