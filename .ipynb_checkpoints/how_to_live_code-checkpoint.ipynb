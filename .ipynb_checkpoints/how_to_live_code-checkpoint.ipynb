{
 "cells": [
  {
   "cell_type": "markdown",
   "id": "b66bea36-83ec-4a24-bd9f-bfb68fc6da98",
   "metadata": {},
   "source": [
    "# Interactive Live Code Stuff\n",
    "\n",
    "The html output can't driectly run stuff that needs Python to run -ti needs a kernel. To make your content interactive without requiring readers to leave the current page, you can use a project called Thebe. \n",
    "\n",
    "## Using sphinx-thebe \n",
    "\n",
    "sphinx-thebe uses remote Jupyter kernels to execute your page’s code and return the results, and Binder to run the infrastructure for execution. You can do nearly anything with sphinx-thebe that you could do from within a Jupyter Notebook cell."
   ]
  },
  {
   "cell_type": "markdown",
   "id": "a634bc7b-ff54-44f8-b0a2-a61fd04c7da1",
   "metadata": {},
   "source": [
    "<!-- Configure and load Thebe !-->\n",
    "<script type=\"text/x-thebe-config\">\n",
    "  {\n",
    "      requestKernel: true,\n",
    "      mountActivateWidget: true,\n",
    "      mountStatusWidget: true,\n",
    "      data-executable: false,\n",
    "      binderOptions: {\n",
    "      repo: \"binder-examples/requirements\",\n",
    "      },\n",
    "  }\n",
    "</script>\n",
    "\n",
    "<script type=\"text/javascript\">\n",
    "    thebe.events.on(\"request-kernel\")((kernel) => {\n",
    "        // Find any cells with an initialization tag and ask Thebe to run them when ready\n",
    "        kernel.requestExecute({code: \"import numpy\"})\n",
    "    });\n",
    "</script>\n",
    "\n",
    "<script type=\"text/javascript\">\n",
    "    thebe.events.on(\"request-kernel\")(() => {\n",
    "        // Find any cells with an initialization tag and ask Thebe to run them when ready\n",
    "        var thebeInitCells = document.querySelectorAll('.thebe-init');\n",
    "        thebeInitCells.forEach((cell) => {\n",
    "            console.log(\"Initializing Thebe with cell: \" + cell.id);\n",
    "            const initButton = cell.querySelector('.thebe-run-button');\n",
    "            initButton.click();\n",
    "        });\n",
    "    });\n",
    "</script>\n",
    "    \n",
    "<script src=\"https://unpkg.com/thebe@latest/lib/index.js\"></script>\n",
    "\n",
    "<div class=\"thebe-activate\"></div>\n",
    "<div class=\"thebe-status\"></div>"
   ]
  },
  {
   "cell_type": "code",
   "execution_count": 6,
   "id": "98757017-5340-4592-86e2-006ce6367a58",
   "metadata": {},
   "outputs": [
    {
     "ename": "SyntaxError",
     "evalue": "expression cannot contain assignment, perhaps you meant \"==\"? (Temp/ipykernel_88984/2471462609.py, line 1)",
     "output_type": "error",
     "traceback": [
      "\u001b[1;36m  File \u001b[1;32m\"C:\\Users\\Jim\\AppData\\Local\\Temp/ipykernel_88984/2471462609.py\"\u001b[1;36m, line \u001b[1;32m1\u001b[0m\n\u001b[1;33m    thebe.events.on(\"request-kernel\")(() => {\u001b[0m\n\u001b[1;37m                                      ^\u001b[0m\n\u001b[1;31mSyntaxError\u001b[0m\u001b[1;31m:\u001b[0m expression cannot contain assignment, perhaps you meant \"==\"?\n"
     ]
    }
   ],
   "source": [
    "print(\"false\")"
   ]
  },
  {
   "cell_type": "markdown",
   "id": "df2fec75-47b2-4deb-90ff-293fa54bc71b",
   "metadata": {
    "tags": [
     "thebe-init",
     "thebelab-init"
    ]
   },
   "source": [
    "Inserting html editable/runnanble code using Markdoen\n",
    "\n",
    "<pre data-executable=\"true\" data-output=\"true\" data-language=\"python\">print(\"Hello true!\")</pre>"
   ]
  },
  {
   "cell_type": "markdown",
   "id": "304198b4-c42c-47b6-8ecd-2b73ecff82a7",
   "metadata": {
    "tags": [
     "thebe-init"
    ]
   },
   "source": [
    "Inserting code that's not runnable in html\n",
    "\n",
    "<pre data-language=\"python\">print(\"Hello false\")</pre>\n",
    "\n",
    "Inserting normal code that's not runnable unless a thebe-button is clicked."
   ]
  },
  {
   "cell_type": "code",
   "execution_count": 1,
   "id": "e4431481-19c4-47ee-abef-328557186f0a",
   "metadata": {
    "tags": [
     "hide-input",
     "thebe-false"
    ]
   },
   "outputs": [
    {
     "name": "stdout",
     "output_type": "stream",
     "text": [
      "Hello, no thebe here 2\n"
     ]
    }
   ],
   "source": [
    "print('Hello, no thebe here 2')"
   ]
  },
  {
   "cell_type": "markdown",
   "id": "01d8617b-bbb8-4e98-a8c6-aea9e6627110",
   "metadata": {},
   "source": [
    "```{code-block} python\n",
    "print(\"hello world!\")\n",
    "```"
   ]
  },
  {
   "cell_type": "markdown",
   "id": "fb45e1b4-1393-437e-b91d-5410ac112f59",
   "metadata": {},
   "source": [
    "```{thebe-button}\n",
    "```"
   ]
  },
  {
   "cell_type": "markdown",
   "id": "e7819e81-3d58-4aa4-ad34-8698e654ef86",
   "metadata": {},
   "source": [
    "<div class=\"highlight\">\n",
    "    <pre>print(\"hi!\")</pre>\n",
    " </div>"
   ]
  },
  {
   "cell_type": "markdown",
   "id": "fa6e35e9-1142-4617-b8c1-79a71fcde496",
   "metadata": {},
   "source": [
    "<pre data-executable data-readonly>print(\"I cannot be modified\")</pre>"
   ]
  },
  {
   "cell_type": "markdown",
   "id": "15750e57-50bd-4419-9bc6-afb31f995424",
   "metadata": {},
   "source": [
    "## Interactive widgets using Python\n"
   ]
  },
  {
   "cell_type": "code",
   "execution_count": 2,
   "id": "b29dcd31-6801-41b6-b740-d06c921cd407",
   "metadata": {
    "tags": []
   },
   "outputs": [],
   "source": [
    "from ipywidgets import interact, interactive, fixed, interact_manual\n",
    "import ipywidgets as widgets\n",
    "\n",
    "def f(x):\n",
    "    return x"
   ]
  },
  {
   "cell_type": "markdown",
   "id": "4f85bb3b-3b81-408f-af37-06b286760d31",
   "metadata": {},
   "source": [
    "And some lines of stuff.... \n",
    "and then the interact widget. It's necessary to run the imports through Thebe first. They don' load until Thebe is run and the then the code cell is run. "
   ]
  },
  {
   "cell_type": "code",
   "execution_count": 3,
   "id": "ec59aa6b-301b-420b-a028-950478f6394a",
   "metadata": {
    "tags": [
     "thebe-init",
     "interactive"
    ]
   },
   "outputs": [
    {
     "data": {
      "application/vnd.jupyter.widget-view+json": {
       "model_id": "5c1a1d430d154d9d9a3c89535bd851d4",
       "version_major": 2,
       "version_minor": 0
      },
      "text/plain": [
       "interactive(children=(IntSlider(value=10, description='x', max=30, min=-10), Output()), _dom_classes=('widget-…"
      ]
     },
     "metadata": {},
     "output_type": "display_data"
    }
   ],
   "source": [
    "from ipywidgets import interact, interactive, fixed, interact_manual\n",
    "import ipywidgets as widgets\n",
    "\n",
    "def f(x):\n",
    "    return x\n",
    "\n",
    "interact(f, x=10);"
   ]
  },
  {
   "cell_type": "markdown",
   "id": "d07ad3a9-095a-47ac-88ab-7d3360a0a37e",
   "metadata": {
    "tags": [
     "thebe-init",
     "interactive",
     "thebelab-init"
    ]
   },
   "source": [
    "<pre data-executable=\"true\" data-readonly init = \"true\" thebe-init = \"true\">\n",
    "from ipywidgets import interact, interactive, fixed, interact_manual\n",
    "import ipywidgets as widgets\n",
    "\n",
    "def f(x):\n",
    "    return x\n",
    "\n",
    "interact(f, x=10);\n",
    "print('hello 2')\n",
    "</pre>"
   ]
  },
  {
   "cell_type": "code",
   "execution_count": null,
   "id": "73510a44-7803-422a-901d-6d3dc6220f19",
   "metadata": {
    "tags": [
     "thebe-init"
    ]
   },
   "outputs": [],
   "source": [
    "print(\"hi auto python\")"
   ]
  },
  {
   "cell_type": "markdown",
   "id": "d1fd77c0-3709-4f53-9cf9-055f7dd94a52",
   "metadata": {},
   "source": [
    "```{code-block}\n",
    ":class: thebe, thebe-init\n",
    "print(\"hi MD\")\n",
    "```"
   ]
  }
 ],
 "metadata": {
  "kernelspec": {
   "display_name": "Python 3 (ipykernel)",
   "language": "python",
   "name": "python3"
  },
  "language_info": {
   "codemirror_mode": {
    "name": "ipython",
    "version": 3
   },
   "file_extension": ".py",
   "mimetype": "text/x-python",
   "name": "python",
   "nbconvert_exporter": "python",
   "pygments_lexer": "ipython3",
   "version": "3.9.7"
  }
 },
 "nbformat": 4,
 "nbformat_minor": 5
}
