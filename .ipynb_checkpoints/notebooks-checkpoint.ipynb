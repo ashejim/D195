{
 "cells": [
  {
   "cell_type": "code",
   "execution_count": 1,
   "metadata": {
    "tags": [
     "hide_input"
    ]
   },
   "outputs": [],
   "source": [
    "#imports\n",
    "import pandas as pd\n",
    "from ipywidgets import interact, interactive, fixed, interact_manual, Layout, Box, VBox, HBox, Button, Output, Tab\n",
    "# import ipywidgets as widgets\n",
    "from IPython.display import display, display_html\n",
    "import numpy as np\n",
    "import math\n",
    "import matplotlib.pyplot as plt\n",
    "import seaborn as sns\n",
    "from scipy.stats import norm\n",
    "import markdown\n",
    "from IPython.core.display import display, HTML\n",
    "from myst_nb import glue"
   ]
  },
  {
   "cell_type": "raw",
   "metadata": {},
   "source": [
    "launch_buttons:\n",
    "  thebe                  : true"
   ]
  },
  {
   "cell_type": "markdown",
   "metadata": {
    "tags": []
   },
   "source": [
    "\n",
    "# Comparing Two (but not more than two) Groups\n",
    "\n",
    "You can also create content with Jupyter Notebooks. This means that you can include\n",
    "code blocks and their outputs in your book.\n",
    "\n",
    "## Quantitative Variables\n",
    "\n",
    "### Large Samples\n",
    "\n",
    "The sampling distribution of _any_ statistic (aka value or variable) being tested, e.g., the mean) becomes more and more _normal_ (aka Gaussian or bell-shaped) as the sample size increases (this is the Central Limit Theorem [ADD LINK]). So with sufficiently large samples, we can assume the normality of the sampling distribution required by parametric tests (most well-known statistical tests). In short, large samples make things much easier. \n",
    "\n",
    "So what's large?? If in doubt, use the standard rule of thumb, $n>30$. But this oversimplifies things-a lot; parametric tests can sometimes perform well with smaller samples from non-normal data distributions (see [Choosing Between a Nonparametric Test and a Parametric Test](https://blog.minitab.com/en/adventures-in-statistics-2/choosing-between-a-nonparametric-test-and-a-parametric-test) and [ADD LINK]). For simplicity, we'll assume throughout this section that conditions for parametric tests are met. \n",
    "\n",
    "Statistics is about application -let's look at some examples."
   ]
  },
  {
   "cell_type": "markdown",
   "metadata": {
    "tags": []
   },
   "source": [
    "\n",
    "#### Example: Comparing a sample to the population\n",
    "\n",
    "__Question:__ Are men taller than the average adult? \n",
    "\n",
    "To investigate this quesiton, we could go out and measure *every* man, but that would be awfully inconvenient. So instead we'll analyze the heights (in inches) of a random sample of 50 men {cite}`DConway_2000`. "
   ]
  },
  {
   "cell_type": "code",
   "execution_count": 2,
   "metadata": {
    "jupyter": {
     "source_hidden": true
    },
    "tags": [
     "output_scroll",
     "hide_input"
    ]
   },
   "outputs": [
    {
     "data": {
      "text/html": [
       "<div>\n",
       "<style scoped>\n",
       "    .dataframe tbody tr th:only-of-type {\n",
       "        vertical-align: middle;\n",
       "    }\n",
       "\n",
       "    .dataframe tbody tr th {\n",
       "        vertical-align: top;\n",
       "    }\n",
       "\n",
       "    .dataframe thead th {\n",
       "        text-align: right;\n",
       "    }\n",
       "</style>\n",
       "<table border=\"1\" class=\"dataframe\">\n",
       "  <thead>\n",
       "    <tr style=\"text-align: right;\">\n",
       "      <th></th>\n",
       "      <th>Gender</th>\n",
       "      <th>Height</th>\n",
       "    </tr>\n",
       "  </thead>\n",
       "  <tbody>\n",
       "    <tr>\n",
       "      <th>0</th>\n",
       "      <td>Male</td>\n",
       "      <td>63.651508</td>\n",
       "    </tr>\n",
       "    <tr>\n",
       "      <th>1</th>\n",
       "      <td>Male</td>\n",
       "      <td>72.390657</td>\n",
       "    </tr>\n",
       "    <tr>\n",
       "      <th>2</th>\n",
       "      <td>Male</td>\n",
       "      <td>69.008259</td>\n",
       "    </tr>\n",
       "    <tr>\n",
       "      <th>3</th>\n",
       "      <td>Male</td>\n",
       "      <td>71.357382</td>\n",
       "    </tr>\n",
       "    <tr>\n",
       "      <th>4</th>\n",
       "      <td>Male</td>\n",
       "      <td>70.490929</td>\n",
       "    </tr>\n",
       "    <tr>\n",
       "      <th>5</th>\n",
       "      <td>Male</td>\n",
       "      <td>69.465859</td>\n",
       "    </tr>\n",
       "    <tr>\n",
       "      <th>6</th>\n",
       "      <td>Male</td>\n",
       "      <td>67.110447</td>\n",
       "    </tr>\n",
       "    <tr>\n",
       "      <th>7</th>\n",
       "      <td>Male</td>\n",
       "      <td>71.352201</td>\n",
       "    </tr>\n",
       "    <tr>\n",
       "      <th>8</th>\n",
       "      <td>Male</td>\n",
       "      <td>67.524328</td>\n",
       "    </tr>\n",
       "    <tr>\n",
       "      <th>9</th>\n",
       "      <td>Male</td>\n",
       "      <td>64.815009</td>\n",
       "    </tr>\n",
       "    <tr>\n",
       "      <th>10</th>\n",
       "      <td>Male</td>\n",
       "      <td>68.974481</td>\n",
       "    </tr>\n",
       "    <tr>\n",
       "      <th>11</th>\n",
       "      <td>Male</td>\n",
       "      <td>69.394896</td>\n",
       "    </tr>\n",
       "    <tr>\n",
       "      <th>12</th>\n",
       "      <td>Male</td>\n",
       "      <td>62.182929</td>\n",
       "    </tr>\n",
       "    <tr>\n",
       "      <th>13</th>\n",
       "      <td>Male</td>\n",
       "      <td>68.863208</td>\n",
       "    </tr>\n",
       "    <tr>\n",
       "      <th>14</th>\n",
       "      <td>Male</td>\n",
       "      <td>71.174163</td>\n",
       "    </tr>\n",
       "    <tr>\n",
       "      <th>15</th>\n",
       "      <td>Male</td>\n",
       "      <td>67.495218</td>\n",
       "    </tr>\n",
       "    <tr>\n",
       "      <th>16</th>\n",
       "      <td>Male</td>\n",
       "      <td>71.789780</td>\n",
       "    </tr>\n",
       "    <tr>\n",
       "      <th>17</th>\n",
       "      <td>Male</td>\n",
       "      <td>72.979451</td>\n",
       "    </tr>\n",
       "    <tr>\n",
       "      <th>18</th>\n",
       "      <td>Male</td>\n",
       "      <td>69.958719</td>\n",
       "    </tr>\n",
       "    <tr>\n",
       "      <th>19</th>\n",
       "      <td>Male</td>\n",
       "      <td>65.273539</td>\n",
       "    </tr>\n",
       "    <tr>\n",
       "      <th>20</th>\n",
       "      <td>Male</td>\n",
       "      <td>63.154272</td>\n",
       "    </tr>\n",
       "    <tr>\n",
       "      <th>21</th>\n",
       "      <td>Male</td>\n",
       "      <td>65.759399</td>\n",
       "    </tr>\n",
       "    <tr>\n",
       "      <th>22</th>\n",
       "      <td>Male</td>\n",
       "      <td>68.909491</td>\n",
       "    </tr>\n",
       "    <tr>\n",
       "      <th>23</th>\n",
       "      <td>Male</td>\n",
       "      <td>68.561371</td>\n",
       "    </tr>\n",
       "    <tr>\n",
       "      <th>24</th>\n",
       "      <td>Male</td>\n",
       "      <td>72.938649</td>\n",
       "    </tr>\n",
       "    <tr>\n",
       "      <th>25</th>\n",
       "      <td>Male</td>\n",
       "      <td>73.995311</td>\n",
       "    </tr>\n",
       "    <tr>\n",
       "      <th>26</th>\n",
       "      <td>Male</td>\n",
       "      <td>68.287637</td>\n",
       "    </tr>\n",
       "    <tr>\n",
       "      <th>27</th>\n",
       "      <td>Male</td>\n",
       "      <td>67.568385</td>\n",
       "    </tr>\n",
       "    <tr>\n",
       "      <th>28</th>\n",
       "      <td>Male</td>\n",
       "      <td>64.991910</td>\n",
       "    </tr>\n",
       "    <tr>\n",
       "      <th>29</th>\n",
       "      <td>Male</td>\n",
       "      <td>69.390474</td>\n",
       "    </tr>\n",
       "    <tr>\n",
       "      <th>30</th>\n",
       "      <td>Male</td>\n",
       "      <td>69.297292</td>\n",
       "    </tr>\n",
       "    <tr>\n",
       "      <th>31</th>\n",
       "      <td>Male</td>\n",
       "      <td>67.882001</td>\n",
       "    </tr>\n",
       "    <tr>\n",
       "      <th>32</th>\n",
       "      <td>Male</td>\n",
       "      <td>75.038412</td>\n",
       "    </tr>\n",
       "    <tr>\n",
       "      <th>33</th>\n",
       "      <td>Male</td>\n",
       "      <td>69.340657</td>\n",
       "    </tr>\n",
       "    <tr>\n",
       "      <th>34</th>\n",
       "      <td>Male</td>\n",
       "      <td>68.963534</td>\n",
       "    </tr>\n",
       "    <tr>\n",
       "      <th>35</th>\n",
       "      <td>Male</td>\n",
       "      <td>67.907995</td>\n",
       "    </tr>\n",
       "    <tr>\n",
       "      <th>36</th>\n",
       "      <td>Male</td>\n",
       "      <td>70.213629</td>\n",
       "    </tr>\n",
       "    <tr>\n",
       "      <th>37</th>\n",
       "      <td>Male</td>\n",
       "      <td>67.396783</td>\n",
       "    </tr>\n",
       "    <tr>\n",
       "      <th>38</th>\n",
       "      <td>Male</td>\n",
       "      <td>62.619965</td>\n",
       "    </tr>\n",
       "    <tr>\n",
       "      <th>39</th>\n",
       "      <td>Male</td>\n",
       "      <td>68.768645</td>\n",
       "    </tr>\n",
       "    <tr>\n",
       "      <th>40</th>\n",
       "      <td>Male</td>\n",
       "      <td>70.037761</td>\n",
       "    </tr>\n",
       "    <tr>\n",
       "      <th>41</th>\n",
       "      <td>Male</td>\n",
       "      <td>71.317651</td>\n",
       "    </tr>\n",
       "    <tr>\n",
       "      <th>42</th>\n",
       "      <td>Male</td>\n",
       "      <td>75.537221</td>\n",
       "    </tr>\n",
       "    <tr>\n",
       "      <th>43</th>\n",
       "      <td>Male</td>\n",
       "      <td>65.420708</td>\n",
       "    </tr>\n",
       "    <tr>\n",
       "      <th>44</th>\n",
       "      <td>Male</td>\n",
       "      <td>70.196580</td>\n",
       "    </tr>\n",
       "    <tr>\n",
       "      <th>45</th>\n",
       "      <td>Male</td>\n",
       "      <td>73.847017</td>\n",
       "    </tr>\n",
       "    <tr>\n",
       "      <th>46</th>\n",
       "      <td>Male</td>\n",
       "      <td>69.624550</td>\n",
       "    </tr>\n",
       "    <tr>\n",
       "      <th>47</th>\n",
       "      <td>Male</td>\n",
       "      <td>69.481714</td>\n",
       "    </tr>\n",
       "    <tr>\n",
       "      <th>48</th>\n",
       "      <td>Male</td>\n",
       "      <td>67.459715</td>\n",
       "    </tr>\n",
       "    <tr>\n",
       "      <th>49</th>\n",
       "      <td>Male</td>\n",
       "      <td>67.318545</td>\n",
       "    </tr>\n",
       "  </tbody>\n",
       "</table>\n",
       "</div>"
      ],
      "text/plain": [
       "   Gender     Height\n",
       "0    Male  63.651508\n",
       "1    Male  72.390657\n",
       "2    Male  69.008259\n",
       "3    Male  71.357382\n",
       "4    Male  70.490929\n",
       "5    Male  69.465859\n",
       "6    Male  67.110447\n",
       "7    Male  71.352201\n",
       "8    Male  67.524328\n",
       "9    Male  64.815009\n",
       "10   Male  68.974481\n",
       "11   Male  69.394896\n",
       "12   Male  62.182929\n",
       "13   Male  68.863208\n",
       "14   Male  71.174163\n",
       "15   Male  67.495218\n",
       "16   Male  71.789780\n",
       "17   Male  72.979451\n",
       "18   Male  69.958719\n",
       "19   Male  65.273539\n",
       "20   Male  63.154272\n",
       "21   Male  65.759399\n",
       "22   Male  68.909491\n",
       "23   Male  68.561371\n",
       "24   Male  72.938649\n",
       "25   Male  73.995311\n",
       "26   Male  68.287637\n",
       "27   Male  67.568385\n",
       "28   Male  64.991910\n",
       "29   Male  69.390474\n",
       "30   Male  69.297292\n",
       "31   Male  67.882001\n",
       "32   Male  75.038412\n",
       "33   Male  69.340657\n",
       "34   Male  68.963534\n",
       "35   Male  67.907995\n",
       "36   Male  70.213629\n",
       "37   Male  67.396783\n",
       "38   Male  62.619965\n",
       "39   Male  68.768645\n",
       "40   Male  70.037761\n",
       "41   Male  71.317651\n",
       "42   Male  75.537221\n",
       "43   Male  65.420708\n",
       "44   Male  70.196580\n",
       "45   Male  73.847017\n",
       "46   Male  69.624550\n",
       "47   Male  69.481714\n",
       "48   Male  67.459715\n",
       "49   Male  67.318545"
      ]
     },
     "execution_count": 2,
     "metadata": {},
     "output_type": "execute_result"
    }
   ],
   "source": [
    "##dataset on 10000 measurements of height and weight for men and women available through the book \n",
    "##Machine Learning for Hackers, Drew Conway & John Myles-While, O'Reilly Media.\n",
    "url = \"https://raw.githubusercontent.com/johnmyleswhite/ML_for_Hackers/master/02-Exploration/data/01_heights_weights_genders.csv\"\n",
    "df = pd.read_csv(url)\n",
    "\n",
    "##we take a random sample of 100 males\n",
    "df_sample = df.loc[df['Gender']== 'Male',['Gender','Height']].sample(50, random_state=12, ignore_index=True);\n",
    "##prints samples\n",
    "# pd.set_option('display.max_rows', 50) #NOTE set to 50 and scroll before upload\n",
    "\n",
    "# df_sample.style.set_properties(**{'horizontal-align': 'right'})\n",
    "df_sample"
   ]
  },
  {
   "cell_type": "code",
   "execution_count": 3,
   "metadata": {
    "tags": [
     "hide_input"
    ]
   },
   "outputs": [
    {
     "data": {
      "text/html": [
       "<style type=\"text/css\">\n",
       "</style>\n",
       "<table id=\"T_4f7c8_\" style='display:inline'>\n",
       "  <caption>Sample Heights of 50 Adult Males</caption>\n",
       "  <thead>\n",
       "    <tr>\n",
       "      <th class=\"blank level0\" >&nbsp;</th>\n",
       "      <th class=\"col_heading level0 col0\" >Height</th>\n",
       "    </tr>\n",
       "  </thead>\n",
       "  <tbody>\n",
       "    <tr>\n",
       "      <th id=\"T_4f7c8_level0_row0\" class=\"row_heading level0 row0\" >mean</th>\n",
       "      <td id=\"T_4f7c8_row0_col0\" class=\"data row0 col0\" >68.929605</td>\n",
       "    </tr>\n",
       "    <tr>\n",
       "      <th id=\"T_4f7c8_level0_row1\" class=\"row_heading level0 row1\" >std</th>\n",
       "      <td id=\"T_4f7c8_row1_col0\" class=\"data row1 col0\" >3.028708</td>\n",
       "    </tr>\n",
       "  </tbody>\n",
       "</table>\n",
       "          <style type=\"text/css\">\n",
       "</style>\n",
       "<table id=\"T_cd474_\" style='display:inline'>\n",
       "  <caption>Population of Adult Heights</caption>\n",
       "  <thead>\n",
       "    <tr>\n",
       "      <th class=\"blank level0\" >&nbsp;</th>\n",
       "      <th class=\"col_heading level0 col0\" >Height</th>\n",
       "    </tr>\n",
       "  </thead>\n",
       "  <tbody>\n",
       "    <tr>\n",
       "      <th id=\"T_cd474_level0_row0\" class=\"row_heading level0 row0\" >mean</th>\n",
       "      <td id=\"T_cd474_row0_col0\" class=\"data row0 col0\" >66.367560</td>\n",
       "    </tr>\n",
       "    <tr>\n",
       "      <th id=\"T_cd474_level0_row1\" class=\"row_heading level0 row1\" >std</th>\n",
       "      <td id=\"T_cd474_row1_col0\" class=\"data row1 col0\" >3.847528</td>\n",
       "    </tr>\n",
       "  </tbody>\n",
       "</table>\n"
      ]
     },
     "metadata": {},
     "output_type": "display_data"
    },
    {
     "data": {
      "image/png": "[encoded data removed]",
      "text/plain": [
       "<Figure size 432x288 with 1 Axes>"
      ]
     },
     "metadata": {
      "needs_background": "light"
     },
     "output_type": "display_data"
    }
   ],
   "source": [
    "#I'm cheating a little here. Rather than using the actual known mean and std deviation, I'm using a sample of 10,000. \n",
    "#It gives the same values as the 'true' values are also found using samples. \n",
    "#For the purposes of these examples, we assume these values are established fact.\n",
    "dfht = df[['Height']]\n",
    "\n",
    "#display stats side by side\n",
    "df1_styler = df_sample.describe().loc[['mean','std']].style.set_table_attributes(\"style='display:inline'\").set_caption('Sample Heights of 50 Adult Males')\n",
    "df2_styler = dfht.describe().loc[['mean','std']].style.set_table_attributes(\"style='display:inline'\").set_caption('Population of Adult Heights')\n",
    "space = \"\\xa0\" * 10 #adjusts spacing\n",
    "\n",
    "display_html(df1_styler._repr_html_()+ space +df2_styler._repr_html_(), raw=True)\n",
    "\n",
    "# Plot\n",
    "pop_ht = np.random.normal(size=50,loc=66.36756, scale=3.84) #a normal dist adj to Mean and Std\n",
    "\n",
    "fig, ax = plt.subplots();\n",
    "sns.kdeplot(pop_ht,color=\"r\", shade = True, label=\"Adults heights\");\n",
    "sns.histplot(df_sample, x = 'Height', stat = 'probability', kde = True, color=\"dodgerblue\", label=\"Sample Men heights\",bins = 6); \n",
    "\n",
    "plt.axvline(x=68.929605, color='b', dashes=(3, 3), zorder=0,linewidth=1);\n",
    "plt.axvline(x=66.367560, color='red', dashes=(3, 3), zorder=0,linewidth=1);\n",
    "plt.xlim(55,80)\n",
    "plt.ylim(0,.38)\n",
    "plt.legend();"
   ]
  },
  {
   "cell_type": "markdown",
   "metadata": {},
   "source": [
    "```{figure} data:image/gif;base64,R0lGODlhAQABAIAAAAAAAP///yH5BAEAAAAALAAAAAABAAEAAAIBRAA7\n",
    ":figclass: caption-hack\n",
    ":name: your-fig-name\n",
    "\n",
    "Your caption goes here\n",
    "```"
   ]
  },
  {
   "cell_type": "markdown",
   "metadata": {},
   "source": [
    "```{figure} data:image/gif;base64,R0lGODlhAQABAIAAAAAAAP///yH5BAEAAAAALAAAAAABAAEAAAIBRAA7\n",
    ":figclass: margin\n",
    ":name: your-fig-name2\n",
    "\n",
    "Your caption goes here\n",
    "```"
   ]
  },
  {
   "cell_type": "code",
   "execution_count": 4,
   "metadata": {
    "tags": []
   },
   "outputs": [
    {
     "data": {
      "text/plain": [
       "3.0010626754621237"
      ]
     },
     "metadata": {
      "scrapbook": {
       "mime_prefix": "",
       "name": "boot_mean"
      }
     },
     "output_type": "display_data"
    },
    {
     "data": {
      "text/plain": [
       "2.9886042525116636"
      ]
     },
     "metadata": {
      "scrapbook": {
       "mime_prefix": "",
       "name": "boot_clo"
      }
     },
     "output_type": "display_data"
    },
    {
     "data": {
      "text/plain": [
       "3.013469150324101"
      ]
     },
     "metadata": {
      "scrapbook": {
       "mime_prefix": "",
       "name": "boot_chi"
      }
     },
     "output_type": "display_data"
    },
    {
     "data": {
      "application/papermill.record/image/png": "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\n",
      "application/papermill.record/text/plain": "<Figure size 432x288 with 1 Axes>"
     },
     "metadata": {
      "scrapbook": {
       "mime_prefix": "application/papermill.record/",
       "name": "ht-distfig"
      }
     },
     "output_type": "display_data"
    },
    {
     "data": {
      "image/png": "[encoded data removed]",
      "text/plain": [
       "<Figure size 432x288 with 1 Axes>"
      ]
     },
     "metadata": {
      "needs_background": "light"
     },
     "output_type": "display_data"
    }
   ],
   "source": [
    "#I'm cheating a little here. Rather than using the actual known mean and std deviation, I'm using a sample of 10,000. \n",
    "#It gives the same values as the 'true' values are also found using samples. \n",
    "#For the purposes of these examples, we assume these values are established fact.\n",
    "dfht = df[['Height']]\n",
    "\n",
    "\n",
    "# display_html(df1_styler._repr_html_()+ space +df2_styler._repr_html_(), raw=True)\n",
    "\n",
    "# Plot\n",
    "pop_ht = np.random.normal(size=50,loc=66.36756, scale=3.84) #a normal dist adj to Mean and Std\n",
    "out1 = Output()\n",
    "df1 = Output()\n",
    "df2 = Output()\n",
    "cap = Output()\n",
    "\n",
    "with df1:\n",
    "    display(df_sample.describe().loc[['mean','std']].style.set_table_attributes(\"style='display:inline'\").set_caption('Sample Heights of 50 Adult Males'))\n",
    "\n",
    "with df2: \n",
    "    display(dfht.describe().loc[['mean','std']].style.set_table_attributes(\"style='display:inline'\").set_caption('Population of Adult Heights'))\n",
    "    \n",
    "with out1:\n",
    "    fig, ax = plt.subplots();\n",
    "    sns.kdeplot(pop_ht,color=\"r\", shade = True, label=\"Adults heights\");\n",
    "    sns.histplot(df_sample, x = 'Height', stat = 'probability', kde = True, color=\"dodgerblue\", label=\"Sample Men heights\",bins = 6); \n",
    "    plt.axvline(x=68.929605, color='b', dashes=(3, 3), zorder=0,linewidth=1);\n",
    "    plt.axvline(x=66.367560, color='red', dashes=(3, 3), zorder=0,linewidth=1);\n",
    "    plt.xlim(55,80)\n",
    "    plt.ylim(0,.38)\n",
    "    plt.legend()\n",
    "    # plt.show()\n",
    "\n",
    "with cap:\n",
    "    markdown.markdown(\"\"\"\n",
    "        {glue:figure} ht-distfig\n",
    "            :name: square-fig1\n",
    "        \n",
    "            newComparing the distributions of the sample (blue) to the population (red) heights.\n",
    "        \"\"\")\n",
    "    \n",
    "box_layout = Layout(display='flex',\n",
    "                    flex_flow='row',\n",
    "                    align_items = 'center',\n",
    "                    justify_content = 'space-around',\n",
    "                    border='solid',\n",
    "                    width='100%')\n",
    "\n",
    "box_images = Box(children = [df1, df2, out1],layout=box_layout)\n",
    "# box_images = Box(children = [display(cap)],layout=box_layout)\n",
    "# figbox = VBox((out1 ,cap))\n",
    "# display(figbox)\n",
    "\n",
    "# box_images\n",
    "\n",
    "# with cap:\n",
    "#     strLatex=\"\"\"\n",
    "#         \\\\begin{figure}[b]\n",
    "#         \\centering\n",
    "#             \\includegraphics[totalheight=10.0cm]{%s}\n",
    "#             \\caption{%s}\n",
    "#             \\label{fig:%s}\n",
    "#         \\end{figure}\"\"\"%('figname', 'figcaption', 'figlabel') \n",
    "# box_caption = Box(children = [cap])\n",
    "# fig1 = VBox([box_images,box_caption])\n",
    "# fig1\n",
    "\n",
    "n_points = 10000\n",
    "n_boots = 1000\n",
    "mean, sd = (3, .2)\n",
    "data = sd*np.random.randn(n_points) + mean\n",
    "bootstrap_indices = np.random.randint(0, n_points, n_points*n_boots).reshape((n_boots, n_points))\n",
    "# Calculate the mean of a bunch of random samples\n",
    "means = data[bootstrap_indices].mean(0)\n",
    "# Calculate the 95% confidence interval for the mean\n",
    "clo, chi = np.percentile(means, [2.5, 97.5])\n",
    "# Store the values in our notebook\n",
    "glue(\"boot_mean\", means.mean())\n",
    "glue(\"boot_clo\", clo)\n",
    "glue(\"boot_chi\", chi)\n",
    "\n",
    "# Visualize the historgram with the intervals\n",
    "fig, ax = plt.subplots()\n",
    "ax.hist(means)\n",
    "for ln in [clo, chi]:\n",
    "    ax.axvline(ln, ls='--', c='r')\n",
    "ax.set_title(\"Bootstrap distribution and 95% CI\")\n",
    "plt.close(fig)\n",
    "\n",
    "glue('ht-distfig', fig, display = False)\n",
    "# box_images;\n",
    "# display(box_images)"
   ]
  },
  {
   "cell_type": "markdown",
   "metadata": {},
   "source": [
    "Here is the text: {glue:}`boot_mean`"
   ]
  },
  {
   "cell_type": "markdown",
   "metadata": {},
   "source": [
    "```{glue:figure} ht-distfig\n",
    ":name: ht-distfig\n",
    "\n",
    "Comparing the distributions of the sample (blue) to the population (red) heights.\n",
    "```"
   ]
  },
  {
   "cell_type": "markdown",
   "metadata": {},
   "source": [
    "```{glue:figure} ht-distfig\n",
    ":figwidth: 300px\n",
    ":name: \"fig-boot\"\n",
    "\n",
    "This is a **caption**!\n",
    "```"
   ]
  },
  {
   "cell_type": "markdown",
   "metadata": {},
   "source": [
    "The population includes women's heights decreadsing the average (this also accounts for the difference in variation; $\\sigma\\approx 3>s_{x}\\approx 3.8$). So as you might have expected, the average height of our sample of males ($\\bar{x}\\approx 68.9$) exceeds the average of the population ($\\mu \\approx 66.4$). But this is observation _statistically significant_? Random sampling is random. Perhaps we just happened to select taller than average men. Since our sample was large, intuitively you might expect this likelyhood to be small -but it is possible.\n",
    "\n",
    "First, assume that our sample was due to chance -and not men being taller. That is, the actual average height is $\\mu \\leq 66.4$. \n",
    "\n",
    "> **Null Hypothesis:** Male average height is less than or equal to 66.4.\n",
    "\n",
    "Note that the hull hypothesis is exactly the *opposite* of what we want to show -this a proof by contradiction. If the null hypothesis is truen, then our sample came from the colored area of the below graph.  "
   ]
  },
  {
   "cell_type": "code",
   "execution_count": null,
   "metadata": {},
   "outputs": [],
   "source": [
    "\n",
    "# range = np.arange(-4,4,0.001)\n",
    "# plt.plot(range, norm.pdf(range, 0, 1))\n",
    "# plt.show()\n",
    "\n",
    "# def draw_z_score(x, cond, mu, sigma, title):\n",
    "#     y = norm.pdf(x, mu, sigma)\n",
    "#     z = x[cond]\n",
    "#     plt.plot(x, y)\n",
    "#     plt.fill_between(z, 0, norm.pdf(z, mu, sigma))\n",
    "#     plt.title(title)\n",
    "#     plt.show()\n",
    "    \n",
    "#draws pdf of smampling means)\n",
    "def draw_pdf_smeans(mu, sigma, sample_size, lower_cond, upper_cond):\n",
    "    sigma_n = sigma/(math.sqrt(sample_size))\n",
    "    # sigma_n = 1\n",
    "    x = np.linspace(-4*sigma_n + mu, 4*sigma_n + mu, 1000)\n",
    "    y = norm.pdf(x, mu, sigma_n) # (x-values, location, scale) \n",
    "    # pop_ht = np.random.normal(size=50,loc=66.36756, scale=3.84) #a normal dist adj to Mean and Std\n",
    "    # z = x['x<67']\n",
    "    # print(z)\n",
    "    plt.xlabel('Density')\n",
    "    plt.ylabel('Height')\n",
    "    plt.plot(x, y)\n",
    "    plt.fill_between(x, y, 0, where = (x > lower_cond) & (x < upper_cond),color = 'dodgerblue')\n",
    "    plt.show()\n",
    "\n",
    "draw_pdf_smeans(66.4, 3.84, 50, 65, 67)"
   ]
  },
  {
   "cell_type": "code",
   "execution_count": null,
   "metadata": {},
   "outputs": [],
   "source": [
    "# %matplotlib notebook\n",
    "%matplotlib inline\n",
    "\n",
    "from ipywidgets import interact, FloatSlider, interactive, fixed\n",
    "import matplotlib.patches as mpatches\n",
    "from matplotlib.collections import PatchCollection\n",
    "\n",
    "# style=\"Simple,head_length=28,head_width=36,tail_width=20\"\n",
    "# arrow = arrow = mpatches.FancyArrowPatch((1,1), (3,3), arrowstyle=style)\n",
    "# plt.gca().add_patch(arrow)\n",
    "\n",
    "# plt.plot([1, 3], [1,3], \"rx\", markersize=15)\n",
    "# plt.xlim(0, 6)\n",
    "# plt.ylim(0, 6)\n",
    "# plt.show()\n",
    "\n",
    "#draws pdf of smampling means)\n",
    "def draw_pdf_smeans(mu, sigma, sample_size, lower_cond, upper_cond):\n",
    "    sigma_n = sigma/(math.sqrt(sample_size)) #std dev of sampling means\n",
    "    x = np.linspace(-4*sigma_n + mu, 4*sigma_n + mu, 1000) #x-axis values\n",
    "    y = norm.pdf(x, mu, sigma_n) # (x-values, location, scale) #norm function\n",
    "    #plot\n",
    "    fig, axs = plt.subplots()\n",
    "    plt.plot(x, y)\n",
    "    plt.fill_between(x, y, 0, where = (x > lower_cond) & (x < upper_cond),color = 'pink')\n",
    "    plt.axvline(x=66.4, color='red', dashes=(3, 3), zorder=0,linewidth=1)\n",
    "    plt.axvline(x=lower_cond, color='blue', dashes=(3, 3), zorder=0,linewidth=1)\n",
    "    plt.xlabel('Density')\n",
    "    plt.ylabel('Height')\n",
    "    plt.text(lower_cond+.1,.6, r'$\\bar{}=${}'.format(r'x',round(lower_cond,2)), fontsize=12)\n",
    "    prob = 1-norm.cdf(lower_cond, loc=mu, scale=sigma_n)\n",
    "    plt.text(67.5,.3, r'prob.={}'.format(round(prob,3)), fontsize=12)\n",
    "    ##arrows\n",
    "    style=\"Simple,head_length=15,head_width=15,tail_width=3\"\n",
    "    arrow = arrow = mpatches.FancyArrowPatch((68,.275), ((lower_cond+68)/2,\n",
    "                                             norm.pdf((lower_cond+68.75)/2, mu, sigma_n)/2),\n",
    "                                             arrowstyle=style)\n",
    "    plt.gca().add_patch(arrow)\n",
    "    plt.show()\n",
    "    \n",
    "## Generate our user interface.\n",
    "# slider = widgets.FloatSlider(description='Sample mean', \n",
    "#                                 style = style, \n",
    "#                                 min=64.5, max=68.5, \n",
    "#                                 step = 0.1, value=67)\n",
    "\n",
    "style ={'description_width': 'initial'};\n",
    "interact_layout = Layout(display='flex',\n",
    "                    align = 'center',\n",
    "                    border='solid'\n",
    "                    )\n",
    "\n",
    "interactive(draw_pdf_smeans,\n",
    "         mu = fixed(66.4),\n",
    "         sigma = fixed(3.84),\n",
    "         sample_size = fixed(50),\n",
    "         upper_cond= fixed(66.4+4*3.84),\n",
    "         lower_cond=FloatSlider(description='Sample mean', \n",
    "                                style = style, \n",
    "                                min=64.5, max=68.5, \n",
    "                                step = 0.1, value=67\n",
    "                                ),\n",
    "        );\n",
    "\n",
    "# display(VBox([w.children[0],w.children[1]]))\n",
    "#https://stackoverflow.com/questions/45464424/how-to-change-the-default-position-of-a-ipywidget-slider-to-the-side-of-a-matplo\n",
    "# display(VBox([w.children[0],w.children[1]]))\n",
    "              "
   ]
  },
  {
   "cell_type": "markdown",
   "metadata": {
    "tags": [
     "hide_input"
    ]
   },
   "source": [
    "### Small Samples\n",
    "\n",
    "This is a bit more involved. To be added later...\n",
    "\n",
    "## Categorical Data\n",
    "\n",
    "## Code blocks and outputs\n",
    "\n",
    "MyST markdown works in Jupyter Notebooks as well. For more information about MyST markdown, check\n",
    "out [the MyST guide in Jupyter Book](https://jupyterbook.org/content/myst.html),\n",
    "or see [the MyST markdown documentation](https://myst-parser.readthedocs.io/en/latest/).\n",
    "\n",
    "Jupyter Book will also embed your code blocks and output in your book.\n",
    "For example, here's some sample Matplotlib code:"
   ]
  },
  {
   "cell_type": "code",
   "execution_count": null,
   "metadata": {},
   "outputs": [],
   "source": [
    "from matplotlib import rcParams, cycler\n",
    "import matplotlib.pyplot as plt\n",
    "import numpy as np\n",
    "plt.ion()"
   ]
  },
  {
   "cell_type": "code",
   "execution_count": null,
   "metadata": {},
   "outputs": [],
   "source": [
    "# Fixing random state for reproducibility\n",
    "np.random.seed(19680801)\n",
    "\n",
    "N = 10\n",
    "data = [np.logspace(0, 1, 100) + np.random.randn(100) + ii for ii in range(N)]\n",
    "data = np.array(data).T\n",
    "cmap = plt.cm.coolwarm\n",
    "rcParams['axes.prop_cycle'] = cycler(color=cmap(np.linspace(0, 1, N)))\n",
    "\n",
    "\n",
    "from matplotlib.lines import Line2D\n",
    "custom_lines = [Line2D([0], [0], color=cmap(0.), lw=4),\n",
    "                Line2D([0], [0], color=cmap(.5), lw=4),\n",
    "                Line2D([0], [0], color=cmap(1.), lw=4)]\n",
    "\n",
    "fig, ax = plt.subplots(figsize=(10, 5))\n",
    "lines = ax.plot(data)\n",
    "ax.legend(custom_lines, ['Cold', 'Medium', 'Hot']);"
   ]
  },
  {
   "cell_type": "markdown",
   "metadata": {},
   "source": [
    "There is a lot more that you can do with outputs (such as including interactive outputs)\n",
    "with your book. For more information about this, see [the Jupyter Book documentation](https://jupyterbook.org)"
   ]
  },
  {
   "cell_type": "markdown",
   "metadata": {},
   "source": [
    "| Name | Gender | Age |\n",
    "| :--- | :--- | :--- |\n",
    "| Jack | Male | 32 |\n",
    "|sue | Female | 21 |"
   ]
  },
  {
   "cell_type": "markdown",
   "metadata": {
    "tags": []
   },
   "source": []
  },
  {
   "cell_type": "code",
   "execution_count": null,
   "metadata": {
    "tags": []
   },
   "outputs": [],
   "source": [
    "# CSS = \"\"\"\n",
    "# .output {\n",
    "#     align-items: center !important;\n",
    "# }\n",
    "# \"\"\"\n",
    "\n",
    "# HTML('<style>{}</style>'.format(CSS))\n"
   ]
  },
  {
   "cell_type": "code",
   "execution_count": null,
   "metadata": {},
   "outputs": [],
   "source": []
  },
  {
   "cell_type": "markdown",
   "metadata": {},
   "source": [
    "<!-- %%html\n",
    "<style>\n",
    "table {float:right}\n",
    "</style> -->"
   ]
  },
  {
   "cell_type": "markdown",
   "metadata": {
    "tags": [
     "output_scroll",
     "float"
    ]
   },
   "source": [
    "<!-- %%html\n",
    "<style>\n",
    "  table {float:right}\n",
    "</style> -->"
   ]
  },
  {
   "cell_type": "code",
   "execution_count": null,
   "metadata": {},
   "outputs": [],
   "source": []
  }
 ],
 "metadata": {
  "kernelspec": {
   "display_name": "Python 3 (ipykernel)",
   "language": "python",
   "name": "python3"
  },
  "language_info": {
   "codemirror_mode": {
    "name": "ipython",
    "version": 3
   },
   "file_extension": ".py",
   "mimetype": "text/x-python",
   "name": "python",
   "nbconvert_exporter": "python",
   "pygments_lexer": "ipython3",
   "version": "3.7.13"
  },
  "widgets": {
   "application/vnd.jupyter.widget-state+json": {
    "state": {},
    "version_major": 2,
    "version_minor": 0
   }
  }
 },
 "nbformat": 4,
 "nbformat_minor": 4
}
